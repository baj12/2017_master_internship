{
  "cells": [
    {
      "cell_type": "markdown",
      "source": [
        "# taskTwo\n",
        "## Analyzing hmmsearch results\n",
        "\n_Date: 04/09/2017_"
      ],
      "metadata": {}
    },
    {
      "cell_type": "code",
      "source": [
        "import pandas as pd"
      ],
      "outputs": [],
      "execution_count": 2,
      "metadata": {
        "collapsed": false,
        "outputHidden": false,
        "inputHidden": false
      }
    },
    {
      "cell_type": "code",
      "source": [
        "df = pd.read_csv('/home/savy/Documents/data/tsa_oskar_result.csv')"
      ],
      "outputs": [],
      "execution_count": 10,
      "metadata": {
        "collapsed": false,
        "outputHidden": false,
        "inputHidden": false
      }
    },
    {
      "cell_type": "code",
      "source": [
        "df.sort_values('oskar_sequence')\n",
        "i= 0 \n",
        "for index in df.index :\n",
        "    if df['oskar'][index] == 'yes' :\n",
        "        i += 1\n",
        "        print(df['organism'][index])\n",
        "i"
      ],
      "outputs": [
        {
          "output_type": "stream",
          "name": "stdout",
          "text": [
            "Philopotamus ludificatus\n",
            "Drosophila malerkotliana\n",
            "Pissodes strobi\n",
            "Polistes canadensis\n",
            "Dendroctonus ponderosae\n",
            "Leptopilina boulardi\n",
            "Ceratitis capitata\n",
            "Anopheles aquasalis\n",
            "Microplitis demolitor\n",
            "Corethrella appendiculata\n",
            "Tetramorium bicarinatum\n",
            "Platycentropus radiatus\n",
            "Bombylius major\n",
            "Panorpa vulgaris\n",
            "Cotesia vestalis\n",
            "Triarthria setipennis\n",
            "Hydroptila sp\n",
            "Culicoides sonorensis\n",
            "Tenthredo koehleri\n",
            "Mischocyttarus flavitarsis\n",
            "Argochrysis armilla\n",
            "Leptopilina clavipes\n",
            "Lipara lucens\n",
            "Teleopsis dalmanni\n",
            "Nasonia vitripennis\n",
            "Nasonia giraulti\n",
            "Polistes metricus\n",
            "Colaphellus bowringi\n",
            "Acantholyda hieroglyphica\n",
            "Dendrocerus carpenteri\n",
            "Telenomus sp\n",
            "Buathra laborator\n",
            "Vespula germanica\n",
            "Smicromyrme rufipes\n",
            "Heterodontonyx sp\n",
            "Meria tripunctata\n",
            "Dasymutilla gloriosa\n",
            "Dendrocerus carpenteri\n",
            "Heteropelma amictum\n",
            "Auplopus albifrons\n",
            "Nematus ribesii\n",
            "Cephalonomia tarsalis\n",
            "Megalodontes cephalotes\n",
            "Episyron rufipes\n",
            "Glossina palpalis\n",
            "Anopheles quadrimaculatus\n",
            "Trichopria drosophilae\n",
            "Aleiodes testaceus\n",
            "Ceraphron sp\n",
            "Gasteruption tournieri\n",
            "Pelecinus polyturator\n",
            "Pompilus cinereus\n",
            "Polistes dominula\n",
            "Pediaspis aceris\n",
            "Parnopes grandior\n",
            "Bactrocera cucurbitae\n",
            "Fopius arisanus\n",
            "Euwallacea fornicatus\n",
            "Aedes albopictus\n",
            "Polistes fuscatus\n",
            "Bactrocera latifrons\n",
            "Cotesia rubecula\n",
            "Pteromalus puparum\n",
            "Bactrocera dorsalis\n",
            "Liogma simplicicornis\n",
            "Ptyssoptera sp\n",
            "Callosobruchus maculatus\n",
            "Callosobruchus maculatus\n",
            "Sitophilus oryzae\n",
            "Cotesia vestalis\n",
            "Camponotus fellah\n",
            "Culex tarsalis\n"
          ]
        },
        {
          "output_type": "execute_result",
          "execution_count": 11,
          "data": {
            "text/plain": [
              "72"
            ]
          },
          "metadata": {}
        }
      ],
      "execution_count": 11,
      "metadata": {
        "collapsed": false,
        "outputHidden": false,
        "inputHidden": false
      }
    },
    {
      "cell_type": "code",
      "source": [
        "df.groupby(['oskar','osk','lotus']).count()"
      ],
      "outputs": [
        {
          "output_type": "execute_result",
          "execution_count": 24,
          "data": {
            "text/plain": [
              "                 tsa  organism  oskar_sequence\n",
              "oskar osk lotus                               \n",
              "no    no  no      46        46               0\n",
              "          yes    168       168               0\n",
              "      yes no      14        14               0\n",
              "          yes    281       281               0\n",
              "yes   yes yes     72        72              72"
            ],
            "text/html": [
              "<div>\n",
              "<table border=\"1\" class=\"dataframe\">\n",
              "  <thead>\n",
              "    <tr style=\"text-align: right;\">\n",
              "      <th></th>\n",
              "      <th></th>\n",
              "      <th></th>\n",
              "      <th>tsa</th>\n",
              "      <th>organism</th>\n",
              "      <th>oskar_sequence</th>\n",
              "    </tr>\n",
              "    <tr>\n",
              "      <th>oskar</th>\n",
              "      <th>osk</th>\n",
              "      <th>lotus</th>\n",
              "      <th></th>\n",
              "      <th></th>\n",
              "      <th></th>\n",
              "    </tr>\n",
              "  </thead>\n",
              "  <tbody>\n",
              "    <tr>\n",
              "      <th rowspan=\"4\" valign=\"top\">no</th>\n",
              "      <th rowspan=\"2\" valign=\"top\">no</th>\n",
              "      <th>no</th>\n",
              "      <td>46</td>\n",
              "      <td>46</td>\n",
              "      <td>0</td>\n",
              "    </tr>\n",
              "    <tr>\n",
              "      <th>yes</th>\n",
              "      <td>168</td>\n",
              "      <td>168</td>\n",
              "      <td>0</td>\n",
              "    </tr>\n",
              "    <tr>\n",
              "      <th rowspan=\"2\" valign=\"top\">yes</th>\n",
              "      <th>no</th>\n",
              "      <td>14</td>\n",
              "      <td>14</td>\n",
              "      <td>0</td>\n",
              "    </tr>\n",
              "    <tr>\n",
              "      <th>yes</th>\n",
              "      <td>281</td>\n",
              "      <td>281</td>\n",
              "      <td>0</td>\n",
              "    </tr>\n",
              "    <tr>\n",
              "      <th>yes</th>\n",
              "      <th>yes</th>\n",
              "      <th>yes</th>\n",
              "      <td>72</td>\n",
              "      <td>72</td>\n",
              "      <td>72</td>\n",
              "    </tr>\n",
              "  </tbody>\n",
              "</table>\n",
              "</div>"
            ]
          },
          "metadata": {}
        }
      ],
      "execution_count": 24,
      "metadata": {
        "collapsed": false,
        "outputHidden": false,
        "inputHidden": false
      }
    },
    {
      "cell_type": "markdown",
      "source": [
        "## New Oskar sequence :\n",
        "\n",
        "- Philopotamus ludificatus\n",
        "- Drosophila malerkotliana\n",
        "- Pissodes strobi\n",
        "- Dendroctonus ponderosae (was not found in Genome analysis)\n",
        "- Leptopilina boulardi\n",
        "- Anopheles aquasalis\n",
        "- Corethrella appendiculata\n",
        "- Tetramorium bicarinatum\n",
        "- Platycentropus radiatus\n",
        "- Bombylius major\n",
        "- Panorpa vulgaris\n",
        "- Cotesia vestalis (was not found in Genome analysis)\n",
        "- Triarthria setipennis\n",
        "- Hydroptila sp\n",
        "- Culicoides sonorensis\n",
        "- Tenthredo koehleri\n",
        "- Mischocyttarus flavitarsis\n",
        "- Argochrysis armilla\n",
        "- Leptopilina clavipes\n",
        "- Lipara lucens (was not found in Genome analysis)\n",
        "- Teleopsis dalmanni\n",
        "- Nasonia giraulti\n",
        "- Polistes metricus\n",
        "- Colaphellus bowringi\n",
        "- Acantholyda hieroglyphica\n",
        "- Dendrocerus carpenteri\n",
        "- Telenomus sp\n",
        "- Buathra laborator\n",
        "- Vespula germanica\n",
        "- Smicromyrme rufipes\n",
        "- Heterodontonyx sp\n",
        "- Meria tripunctata\n",
        "- Dasymutilla gloriosa\n",
        "- Dendrocerus carpenteri\n",
        "- Heteropelma amictum\n",
        "- Auplopus albifrons\n",
        "- Nematus ribesii\n",
        "- Cephalonomia tarsalis\n",
        "- Megalodontes cephalotes\n",
        "- Episyron rufipes\n",
        "- Glossina palpalis\n",
        "- Anopheles quadrimaculatus\n",
        "- Trichopria drosophilae\n",
        "- Aleiodes testaceus\n",
        "- Ceraphron sp\n",
        "- Gasteruption tournieri\n",
        "- Pelecinus polyturator\n",
        "- Pompilus cinereus\n",
        "- Polistes dominula\n",
        "- Pediaspis aceris\n",
        "- Parnopes grandior\n",
        "- Bactrocera cucurbitae\n",
        "- Fopius arisanus\n",
        "- Euwallacea fornicatus\n",
        "- Aedes albopictus\n",
        "- Polistes fuscatus\n",
        "- Bactrocera latifrons\n",
        "- Cotesia rubecula\n",
        "- Pteromalus puparum\n",
        "- Liogma simplicicornis\n",
        "- Ptyssoptera sp\n",
        "- Callosobruchus maculatus\n",
        "- Sitophilus oryzae\n",
        "- Cotesia vestalis\n",
        "- Camponotus fellah\n",
        "- Culex tarsalis"
      ],
      "metadata": {}
    },
    {
      "cell_type": "code",
      "source": [],
      "outputs": [],
      "execution_count": null,
      "metadata": {
        "collapsed": false,
        "outputHidden": false,
        "inputHidden": false
      }
    }
  ],
  "metadata": {
    "kernelspec": {
      "name": "python3",
      "language": "python",
      "display_name": "Python 3"
    },
    "kernel_info": {
      "name": "python3"
    },
    "language_info": {
      "nbconvert_exporter": "python",
      "version": "3.5.2",
      "pygments_lexer": "ipython3",
      "mimetype": "text/x-python",
      "name": "python",
      "codemirror_mode": {
        "name": "ipython",
        "version": 3
      },
      "file_extension": ".py"
    }
  },
  "nbformat": 4,
  "nbformat_minor": 4
}