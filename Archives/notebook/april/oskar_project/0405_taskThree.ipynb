{
  "cells": [
    {
      "cell_type": "markdown",
      "source": [
        "#task_Three\n",
        "## TSA sucking\n",
        "_Date : 04/05/2017_"
      ],
      "metadata": {}
    },
    {
      "cell_type": "code",
      "source": [
        "import pandas as pd\n",
        "import re\n",
        "import os"
      ],
      "outputs": [],
      "execution_count": 3,
      "metadata": {
        "collapsed": false,
        "outputHidden": false,
        "inputHidden": false
      }
    },
    {
      "cell_type": "code",
      "source": [
        "f = open('/home/savy/Documents/2017_master_internship/DomainEvolutionTask/tsaDownloader/tsa_selector.csv')\n",
        "alldata = [x.strip() for x in f.readlines()]\n",
        "f.close()\n",
        "\n",
        "tsaDict = {}\n",
        "\n",
        "for line in alldata[1:] :\n",
        "    line = line.split('\\t')  \n",
        "    tsaDict[line[2]] = line[3]\n",
        "    \n",
        "print(len(tsaDict))\n",
        "    \n",
        "for key in tsaDict.keys(): \n",
        "    init = re.findall(\"^([A-Z]{4})\", key)[0]\n",
        "    version = tsaDict[key]\n",
        "    print(init,version)\n",
        "        "
      ],
      "outputs": [
        {
          "output_type": "stream",
          "name": "stdout",
          "text": [
            "63\n",
            "GEMI 1\n",
            "GBTE 1\n",
            "GFDF 1\n",
            "GETQ 1\n",
            "GALP 1\n",
            "GAKP 1\n",
            "GADS 1\n",
            "GEMK 1\n",
            "GBEY 1\n",
            "GBGG 1\n",
            "GAWM 1\n",
            "GFDG 1\n",
            "GAMC 1\n",
            "GAPW 1\n",
            "GBVY 1\n",
            "GAVA 2\n",
            "GBRX 1\n",
            "GEVJ 1\n",
            "GACZ 1\n",
            "GDAI 1\n",
            "GBBP 1\n",
            "GDAV 1\n",
            "GADR 1\n",
            "GAAK 1\n",
            "GDIM 1\n",
            "GBRL 1\n",
            "GECM 1\n",
            "GEEA 1\n",
            "GEYS 1\n",
            "GADQ 1\n",
            "GAMD 1\n",
            "GDQV 1\n",
            "GAAP 1\n",
            "GDRP 1\n",
            "GCZT 1\n",
            "GEMJ 1\n",
            "GBEO 1\n",
            "GAXZ 2\n",
            "GADM 1\n",
            "GAHN 1\n",
            "GCLM 1\n",
            "GFDL 1\n",
            "HACL 1\n",
            "GAKJ 1\n",
            "GANO 1\n",
            "GBBQ 1\n",
            "GDKS 1\n",
            "GATI 2\n",
            "GDHF 1\n",
            "GATJ 2\n",
            "GABS 1\n",
            "GBAB 1\n",
            "GAFE 1\n",
            "GAEJ 1\n",
            "GDUN 1\n",
            "GALA 1\n",
            "GAZD 2\n",
            "GBIT 1\n",
            "GARN 1\n",
            "GAKB 1\n",
            "GBXI 1\n",
            "GADP 1\n",
            "GAWI 1\n"
          ]
        }
      ],
      "execution_count": 5,
      "metadata": {
        "collapsed": false,
        "outputHidden": false,
        "inputHidden": false
      }
    },
    {
      "cell_type": "markdown",
      "source": [],
      "metadata": {}
    },
    {
      "cell_type": "code",
      "source": [],
      "outputs": [],
      "execution_count": null,
      "metadata": {
        "collapsed": false,
        "outputHidden": false,
        "inputHidden": false
      }
    }
  ],
  "metadata": {
    "kernelspec": {
      "name": "python3",
      "language": "python",
      "display_name": "Python 3"
    },
    "kernel_info": {
      "name": "python3"
    },
    "language_info": {
      "pygments_lexer": "ipython3",
      "nbconvert_exporter": "python",
      "file_extension": ".py",
      "mimetype": "text/x-python",
      "name": "python",
      "codemirror_mode": {
        "name": "ipython",
        "version": 3
      },
      "version": "3.5.2"
    }
  },
  "nbformat": 4,
  "nbformat_minor": 4
}