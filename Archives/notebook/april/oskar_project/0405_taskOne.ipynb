{
  "cells": [
    {
      "cell_type": "markdown",
      "source": [
        "# task_One\n",
        "## Augustus etraining pipeline\n",
        "_Date : 04/06/2017_"
      ],
      "metadata": {}
    },
    {
      "cell_type": "markdown",
      "source": [
        "### Convert gff to genbank\n",
        "> gff2gbSmallDNA.pl \n",
        "\n",
        "> GCA_000325555.1_ASM32555v1_genomic.all.gff\n",
        "\n",
        "> GCA_000325555.1_ASM32555v1_genomic.fasta \n",
        "\n",
        "> 5000 \n",
        "\n",
        "> bombix_mori.genes.gb\n"
      ],
      "metadata": {
        "collapsed": false,
        "outputHidden": false,
        "inputHidden": false
      }
    },
    {
      "cell_type": "markdown",
      "source": [
        "### Split gene structure set into training and test set\n",
        "\n",
        "> randomSplit.pl \n",
        "\n",
        "> Bmori.genes.gb \n",
        "\n> 100"
      ],
      "metadata": {}
    },
    {
      "cell_type": "markdown",
      "source": [
        "### Create the file for training\n",
        "\n> ~/bin/augustus.2.5.5/scripts/new_species.pl --species=bombix_mori --AUGUSTUS_CONFIG_PATH=/home/savy/bin/augustus.2.5.5/config "
      ],
      "metadata": {}
    },
    {
      "cell_type": "markdown",
      "source": [],
      "metadata": {}
    }
  ],
  "metadata": {
    "kernelspec": {
      "name": "python3",
      "language": "python",
      "display_name": "Python 3"
    },
    "kernel_info": {
      "name": "python3"
    },
    "language_info": {
      "mimetype": "text/x-python",
      "name": "python",
      "file_extension": ".py",
      "pygments_lexer": "ipython3",
      "codemirror_mode": {
        "version": 3,
        "name": "ipython"
      },
      "version": "3.5.2",
      "nbconvert_exporter": "python"
    }
  },
  "nbformat": 4,
  "nbformat_minor": 4
}