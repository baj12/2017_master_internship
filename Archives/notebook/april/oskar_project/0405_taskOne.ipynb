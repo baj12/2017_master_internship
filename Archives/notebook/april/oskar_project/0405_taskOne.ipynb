{
  "cells": [
    {
      "cell_type": "markdown",
      "source": [
        "# task_One\n",
        "## Augustus etraining pipeline\n",
        "_Date : 04/05/2017_"
      ],
      "metadata": {}
    },
    {
      "cell_type": "markdown",
      "source": [
        "### Convert gff to genbank\n",
        "> ~/bin/augustus.2.5.5/scripts/gff2gbSmallDNA.pl GCA_000325555.1_ASM32555v1_genomic.all.gff GCA_000325555.1_ASM32555v1_genomic.fna 5000 BombyxMori.genes.gb"
      ],
      "metadata": {
        "collapsed": false,
        "outputHidden": false,
        "inputHidden": false
      }
    },
    {
      "cell_type": "markdown",
      "source": [
        "### Split set"
      ],
      "metadata": {}
    },
    {
      "cell_type": "markdown",
      "source": [],
      "metadata": {}
    }
  ],
  "metadata": {
    "kernelspec": {
      "name": "python3",
      "language": "python",
      "display_name": "Python 3"
    },
    "kernel_info": {
      "name": "python3"
    },
    "language_info": {
      "pygments_lexer": "ipython3",
      "file_extension": ".py",
      "nbconvert_exporter": "python",
      "mimetype": "text/x-python",
      "version": "3.5.2",
      "codemirror_mode": {
        "version": 3,
        "name": "ipython"
      },
      "name": "python"
    }
  },
  "nbformat": 4,
  "nbformat_minor": 4
}