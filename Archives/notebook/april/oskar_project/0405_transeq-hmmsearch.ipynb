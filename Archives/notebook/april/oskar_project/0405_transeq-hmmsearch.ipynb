{
  "cells": [
    {
      "cell_type": "markdown",
      "source": [
        "# task_Two\n",
        "## TSA sucking\n",
        "_Date : 04/05/2017_\n",
        "\n- Obtained 63 TSA"
      ],
      "metadata": {}
    },
    {
      "cell_type": "markdown",
      "source": [
        "## Running transeq\n",
        "\n> `for file in *.fasta ; do transeq -sequence $file -frame 6 -outseq $file.faa ; done`"
      ],
      "metadata": {}
    },
    {
      "cell_type": "markdown",
      "source": [
        "## Running hmmersearch for osk and lotus\n",
        "\n- Look to oskar\\_result output file"
      ],
      "metadata": {}
    },
    {
      "cell_type": "markdown",
      "source": [],
      "metadata": {}
    }
  ],
  "metadata": {
    "kernelspec": {
      "name": "python3",
      "language": "python",
      "display_name": "Python 3"
    },
    "kernel_info": {
      "name": "python3"
    },
    "language_info": {
      "pygments_lexer": "ipython3",
      "nbconvert_exporter": "python",
      "codemirror_mode": {
        "version": 3,
        "name": "ipython"
      },
      "mimetype": "text/x-python",
      "name": "python",
      "file_extension": ".py",
      "version": "3.5.2"
    }
  },
  "nbformat": 4,
  "nbformat_minor": 4
}