{
  "cells": [
    {
      "cell_type": "markdown",
      "source": [
        "# task_Two\n",
        "## Transcriptomes pipeline\n",
        "_Date : 04/05/2017_"
      ],
      "metadata": {}
    },
    {
      "cell_type": "markdown",
      "source": [
        "## TSA sucking\n",
        "\n#### Obtained 285 TSA from TSA browser"
      ],
      "metadata": {}
    },
    {
      "cell_type": "markdown",
      "source": [
        "## Gunzip all TSA file\n",
        "\n> `for file in *.fsa_nt.gz ; do gunzip $file ; done`"
      ],
      "metadata": {}
    },
    {
      "cell_type": "markdown",
      "source": [
        "## Change fsa\\_nt extension file\n",
        "\n> `rename 's/fsa_nt$/fasta/' *.fsa_nt `"
      ],
      "metadata": {}
    },
    {
      "cell_type": "markdown",
      "source": [
        "## Running transeq\n",
        "\n> `for file in *.fasta ; do transeq -sequence $file -frame 6 -outseq ../protein/$file_protein.faa ; done`"
      ],
      "metadata": {}
    },
    {
      "cell_type": "markdown",
      "source": [
        "## Running hmmersearch for osk and lotus\n",
        "\n- Look to oskar\\_result output file"
      ],
      "metadata": {}
    },
    {
      "cell_type": "markdown",
      "source": [
        "## Extract Oskar for alignment in Geneious\n",
        "\n- Found 20 Oskar new sequences in diptera"
      ],
      "metadata": {}
    },
    {
      "cell_type": "markdown",
      "source": [],
      "metadata": {}
    }
  ],
  "metadata": {
    "kernelspec": {
      "name": "python3",
      "language": "python",
      "display_name": "Python 3"
    },
    "kernel_info": {
      "name": "python3"
    },
    "language_info": {
      "name": "python",
      "pygments_lexer": "ipython3",
      "nbconvert_exporter": "python",
      "codemirror_mode": {
        "name": "ipython",
        "version": 3
      },
      "file_extension": ".py",
      "version": "3.5.2",
      "mimetype": "text/x-python"
    }
  },
  "nbformat": 4,
  "nbformat_minor": 4
}