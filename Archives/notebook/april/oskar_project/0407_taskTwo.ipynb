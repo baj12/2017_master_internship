{
  "cells": [
    {
      "cell_type": "code",
      "source": [
        "import sys, os, re\n",
        "import pandas as pd"
      ],
      "outputs": [],
      "execution_count": 1,
      "metadata": {
        "collapsed": false,
        "outputHidden": false,
        "inputHidden": false
      }
    },
    {
      "cell_type": "code",
      "source": [
        "oskarPath = '/utr_evolution_result/oskar_search'\n",
        "\n",
        "f = open('oskar_result','w')\n",
        "oskar_search = os.listdir(oskarPath)\n",
        "\n",
        "for folder in oskar_search :\n",
        "    path = os.path.join(oskarPath, folder)\n",
        "    \n",
        "    for file in os.listdir(path) :\n",
        "        if \"osk\" in file :\n",
        "            osk = file \n",
        "        elif \"lotus\" in file :\n",
        "            lotus = file \n",
        "            \n",
        "    osk_file = open('{}/{}/{}'.format(oskarPath, folder, osk))\n",
        "    oskLines = [x.strip() for x in osk_file.readlines()]\n",
        "    osk_f.close()\n",
        "    \n",
        "    lotus_file = open('{}/{}/{}'.format(oskarPath, folder, lotus))\n",
        "    lotusLines = [x.strip() for x in lotus_file.readlines()]\n",
        "    lotus_file.close()\n",
        "    \n",
        "    osk_idList = []\n",
        "    for line in oskLines[3:] :\n",
        "        if \"#\" not in line :\n",
        "            orgn = re.findall(r'TSA: ([A-Za-z]* [a-z]*)',line)[0]\n",
        "            line = line.split('-')\n",
        "            osk_idList.append(line[0])\n",
        "\n",
        "    lotus_idList = []\n",
        "    for line in lotusLines[3:] :\n",
        "        if \"#\" not in line :\n",
        "            line = line.split('-')\n",
        "            osk_idList.append(line[0])\n",
        " \n",
        "    if osk_idList and lotus_idList not None : \n",
        "        for osk_id in osk_idList :\n",
        "            if osk_id in lotus_idList :\n",
        "                f.write('Oskar found in {}\\n'.format(orgn))\n",
        "                break\n",
        "    else :\n",
        "        f.write('Oskar not found in {}\\n'.format(orgn))\n",
        "\nf.close()"
      ],
      "outputs": [
        {
          "output_type": "error",
          "ename": "FileNotFoundError",
          "evalue": "[Errno 2] No such file or directory: '/utr_evolution_result/oskar_search'",
          "traceback": [
            "\u001b[0;31m---------------------------------------------------------------------------\u001b[0m",
            "\u001b[0;31mFileNotFoundError\u001b[0m                         Traceback (most recent call last)",
            "\u001b[0;32m<ipython-input-2-4d2e9521229c>\u001b[0m in \u001b[0;36m<module>\u001b[0;34m()\u001b[0m\n\u001b[1;32m      1\u001b[0m \u001b[0moskarPath\u001b[0m \u001b[0;34m=\u001b[0m \u001b[0;34m'/utr_evolution_result/oskar_search'\u001b[0m\u001b[0;34m\u001b[0m\u001b[0m\n\u001b[1;32m      2\u001b[0m \u001b[0;34m\u001b[0m\u001b[0m\n\u001b[0;32m----> 3\u001b[0;31m \u001b[0moskar_search\u001b[0m \u001b[0;34m=\u001b[0m \u001b[0mos\u001b[0m\u001b[0;34m.\u001b[0m\u001b[0mlistdir\u001b[0m\u001b[0;34m(\u001b[0m\u001b[0moskarPath\u001b[0m\u001b[0;34m)\u001b[0m\u001b[0;34m\u001b[0m\u001b[0m\n\u001b[0m\u001b[1;32m      4\u001b[0m \u001b[0;34m\u001b[0m\u001b[0m\n\u001b[1;32m      5\u001b[0m \u001b[0;32mfor\u001b[0m \u001b[0mfolder\u001b[0m \u001b[0;32min\u001b[0m \u001b[0moskar_search\u001b[0m \u001b[0;34m:\u001b[0m\u001b[0;34m\u001b[0m\u001b[0m\n",
            "\u001b[0;31mFileNotFoundError\u001b[0m: [Errno 2] No such file or directory: '/utr_evolution_result/oskar_search'"
          ]
        }
      ],
      "execution_count": 2,
      "metadata": {
        "collapsed": false,
        "outputHidden": false,
        "inputHidden": false
      }
    },
    {
      "cell_type": "code",
      "source": [
        "osk_f = open('../tsa.GAMC.1.fasta.faa_oskar_search/GAMC.1_osk_search.txt')\n",
        "oskLines = [x.strip() for x in osk_f.readlines()]\n",
        "osk_f.close()\n",
        "\n",
        "lotus_f = open('../tsa.GAMC.1.fasta.faa_oskar_search/GAMC.1_lotus_search.txt')\n",
        "lotusLines = [x.strip() for x in lotus_f.readlines()]\n",
        "lotus_f.close()\n",
        "\n",
        "osk_idList = []\n",
        "for line in oskLines[3:] :\n",
        "    if \"#\" not in line :\n",
        "        orgn = re.findall(r'TSA: ([A-Za-z]* [a-z]*)',line)[0]\n",
        "        line = line.split('-')\n",
        "        osk_idList.append(line[0])\n",
        "\n",
        "lotus_idList = []\n",
        "for line in lotusLines[3:] :\n",
        "    if \"#\" not in line :\n",
        "        line = line.split('-')\n",
        "        lotus_idList.append(line[0])\n",
        "\n",
        "for osk_id in osk_idList :\n",
        "    for lotus_id in lotus_idList :\n",
        "       if lotus_id == osk_id :\n",
        "            print('Oskar found in ', orgn)\n",
        "            break\n",
        "       else : \n",
        "        print('Oskar not found')"
      ],
      "outputs": [
        {
          "output_type": "stream",
          "name": "stdout",
          "text": [
            "Oskar found in  Ceratitis capitata\n",
            "Oskar not found\n",
            "Oskar found in  Ceratitis capitata\n"
          ]
        }
      ],
      "execution_count": 20,
      "metadata": {
        "collapsed": false,
        "outputHidden": false,
        "inputHidden": false
      }
    },
    {
      "cell_type": "code",
      "source": [
        "os.listdir('/media/savandara/TOSHIBA EXT/Internship/utr_evolution_result/oskar_search/tsa.GADQ.1.fasta.faa_oskar_search')[0]"
      ],
      "outputs": [
        {
          "output_type": "execute_result",
          "execution_count": 71,
          "data": {
            "text/plain": [
              "'04078taskThree.ipynb'"
            ]
          },
          "metadata": {}
        }
      ],
      "execution_count": 71,
      "metadata": {
        "collapsed": false,
        "outputHidden": false,
        "inputHidden": false
      }
    },
    {
      "cell_type": "code",
      "source": [
        "for file in os.listdir('/media/savandara/TOSHIBA EXT/Internship/utr_evolution_result/oskar_search/tsa.GADQ.1.fasta.faa_oskar_search') :\n",
        "    if \"osk\" in file :\n",
        "        osk = file\n",
        "        print(\"osk\", osk)\n",
        "    elif \"lotus\" in file :\n",
        "        lotus = file\n",
        "        print(\"lotus\", lotus)"
      ],
      "outputs": [
        {
          "output_type": "stream",
          "name": "stdout",
          "text": [
            "lotus GADQ.1_lotus_search.txt\n",
            "osk GADQ.1_osk_search.txt\n"
          ]
        }
      ],
      "execution_count": 72,
      "metadata": {
        "collapsed": false,
        "outputHidden": false,
        "inputHidden": false
      }
    },
    {
      "cell_type": "code",
      "source": [],
      "outputs": [],
      "execution_count": null,
      "metadata": {
        "collapsed": false,
        "outputHidden": false,
        "inputHidden": false
      }
    }
  ],
  "metadata": {
    "kernelspec": {
      "name": "python3",
      "language": "python",
      "display_name": "Python 3"
    },
    "kernel_info": {
      "name": "python3"
    },
    "language_info": {
      "codemirror_mode": {
        "version": 3,
        "name": "ipython"
      },
      "nbconvert_exporter": "python",
      "version": "3.5.2",
      "mimetype": "text/x-python",
      "name": "python",
      "file_extension": ".py",
      "pygments_lexer": "ipython3"
    }
  },
  "nbformat": 4,
  "nbformat_minor": 4
}