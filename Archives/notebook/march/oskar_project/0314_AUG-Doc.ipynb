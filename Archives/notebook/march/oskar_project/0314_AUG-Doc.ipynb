{
  "cells": [
    {
      "cell_type": "markdown",
      "source": [
        "# taskOne\n",
        "## Augustus documentation\n",
        "_Date : 03/14/2017_"
      ],
      "metadata": {}
    },
    {
      "cell_type": "markdown",
      "source": [
        "## Augustus training\n",
        "\n",
        "1. Obtain a set of training and test files\n",
        "    * Come from EMV output or already existed in NCBI\n",
        "    * Split the file with `random_split.pl` $\\rightarrow$ and `bug.gb.test` `bug.gb.train`\n",
        "2. Create meta parameters file for your species\n",
        "    * Command line : `new_species.pl --species=bug`\n",
        "3. Initial training\n",
        "    * `etraining --species=bug gene.gb.train`\n",
        "    * `augustus --speices=bug gene.gb.test`\n",
        "4. Retraining Augustus\n",
        "    * `etraining --species=bug gene.gb.train`\n",
        "    * `augustus --speices=bug gene.gb.test`\n",
        "\n",
        "$\\Rightarrow$ Will obtain the accuracy of the prediction (shoul be up to 20% if it is a good model)\n"
      ],
      "metadata": {}
    },
    {
      "cell_type": "markdown",
      "source": [
        "## Gene prediction with Augustus\n",
        "\n",
        "1. Gene prediction step\n",
        "    * `augustus --species=bug genome.fasta > final_gene_prediction.gff`\n",
        "2. Obtain the protein sequences\n",
        "    * `getAnnoFasta.pl final_gene_prediction.gff`\n",
        "    "
      ],
      "metadata": {}
    },
    {
      "cell_type": "markdown",
      "source": [],
      "metadata": {}
    }
  ],
  "metadata": {
    "kernelspec": {
      "name": "python3",
      "language": "python",
      "display_name": "Python 3"
    },
    "kernel_info": {
      "name": "python3"
    },
    "language_info": {
      "file_extension": ".py",
      "codemirror_mode": {
        "version": 3,
        "name": "ipython"
      },
      "nbconvert_exporter": "python",
      "mimetype": "text/x-python",
      "version": "3.5.2",
      "name": "python",
      "pygments_lexer": "ipython3"
    }
  },
  "nbformat": 4,
  "nbformat_minor": 4
}