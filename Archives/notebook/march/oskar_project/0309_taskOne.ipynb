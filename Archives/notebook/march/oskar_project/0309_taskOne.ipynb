{
  "cells": [
    {
      "cell_type": "markdown",
      "source": [
        "# task_One \n",
        "## EMV_Augustus pipeline\n",
        "_Date : 03/09/2017_\n",
        "\n",
        "## Goals for task_One\n",
        "- Update Leo pipeline Gene\\_Prediction\\_Genome\\_DB by used __Evidence Base Modeler__ for finding ORF\n",
        "\n",
        "### Final Goal \n",
        "__Show the phylogenetic distribution of oskar in all insect orders__\n",
        "> - Could be very similar to this figure, which contains information about (1) how many species’ genomes/transcriptomes were searched in each insect Order, and (2) whether oskar was found for each species.\n",
        "> - Could simplify, and indicate whether oskar was found at least once in that order – ie, instead of having many data points per order, have only one Y/N point per order.\n",
        "\n\n",
        "## Done\n",
        "- [x] EMV, PASA, mysql, dbd, gmap blat and fasta installed "
      ],
      "metadata": {}
    },
    {
      "cell_type": "markdown",
      "source": [
        "Date: 03/13/2017\n",
        "\n",
        "## Pipeline\n",
        "\n",
        "Gene prediction was done with a combination of __Evidence Modeler__ (Haas et al., 2008) and __Augustus__ (Stanke and Waack, 2003). \n",
        "\n",
        "* The transcriptome was first mapped to the genome using __GMAP__ (Wu and Watanabe, 2005). A secondary transcriptome reference assembly was performed with __STAR/Cufflinks__ (Trapnell et al., 2010; Dobin et al., 2013). The transcriptome mapping and Cufflinks assembly was processed through the PASA pipeline (Haas et al., 2008) to consolidate the annotations. $\\Rightarrow$ __No need for us__\n",
        "* The PASA dataset, a set of __Exonerate__ (Slater and Birney, 2005) mapped Uniprot proteins, and Ab inito __GeneMark__ (Lukashin and Borodovsky, 1998) predictions were consolidated with Evidence Modeler to produce a set of gene annotations. $\\Rightarrow$ __Focus on this part__\n",
        "\n$\\Rightarrow$ A high confidence set of gene models from Evidence Modeler containing evidence from all three sources was used to train Augustus $\\Rightarrow$ __It helps us to build our HMM model__"
      ],
      "metadata": {}
    },
    {
      "cell_type": "markdown",
      "source": [
        "Date : 04/14/2017\n",
        "\n",
        "# What to know on ...\n",
        "\n",
        "## EMV (Evidence Modeller)\n",
        "Need to use evidence from genome sequence (in FASTA file), protein alignments (in GFF3 file) and ab initio gene prediction (in GFF3 file).\n",
        "\n",
        "- *__Gene sequence__*: come from NCBI Genome database\n",
        "- *__Ab initio gene prediction__*: starting from genome sequence come from NCBI database, we have to create an HMM model with __GeneMark-ES__\n",
        "- *__Protein alignments__*: starting from protein sequence come from NCBI database, we have to map protein with __Exonerate__\n",
        "\n",
        "$\\Rightarrow$ Output : Gene consensus annotations (in GFF3 file)\n",
        "\n",
        "## GeneMark-ES\n",
        "GeneMark-ES is a tool which works with tool which  an eukaryotic gene finding algorithm using __hidden Markov models (HMM)__ and employing the unsupervised training procedure\n",
        "\n",
        "* _Hidden Markov Models_\n",
        "> A Markov process is a random process in which the future is independent of the past, given the present. </br>\n",
        "A hidden Markov model (HMM) is a statistical Markov model in which the system being modeled is assumed to be a Markov process with unobserved (hidden) states. \n",
        "\n",
        "$\\Rightarrow$ Help to have generation of gene predictions\n",
        "\n",
        "## Exonerate\n",
        "Exonerate is a generic tool for __pairwise sequence comparison__. It allows you to align sequences using a many alignment models, either exhaustive dynamic programming or a variety of heuristics.\n",
        "\n",
        "* _Pairwise sequence comparison_\n",
        "> In bioinformatics, a sequence alignment is a way of arranging the sequences of DNA, RNA, or protein to identify regions of similarity that may be a consequence of functional, structural, or evolutionary relationships between the sequences\n",
        "\n$\\Rightarrow$ Used to find the best-matching piecewise (local) or global alignments of two query sequences"
      ],
      "metadata": {}
    },
    {
      "cell_type": "markdown",
      "source": [
        "## Useful GeneMark Commands\n",
        "_Generating predictions for organisms using the program gmhmme3_\n",
        "\n",
        "`gmhmme3 -f gff3 -o predictions.gff3 -m Moryzae.mod ~/contig.fasta`\n",
        "\n",
        "-f FORMAT : Use FORMAT as the output format. \"gff3\" and \"gtf\" are accepted, as well as the default \"lst\". The last of these three formats is specific to GeneMark \n",
        "\n",
        "-n : Include gene nucleotide sequences in FASTA format. Only works with the \"lst\" format.\n",
        "\n",
        "-p : Include gene protein sequences in FASTA format. Only works with the \"lst\" format.\n",
        "\n",
        "-o FILENAME : Write the output to the specified file. The default depends on the combination of options used (hmm_model).\n",
        "\n",
        "-m FILENAME : The name of the parameter file. This option is required. \n",
        "\n",
        "contig.fasta : The final argument is the input contig sequence file, in FASTA format.\n"
      ],
      "metadata": {}
    },
    {
      "cell_type": "markdown",
      "source": [],
      "metadata": {}
    }
  ],
  "metadata": {
    "kernelspec": {
      "name": "python3",
      "language": "python",
      "display_name": "Python 3"
    },
    "kernel_info": {
      "name": "python3"
    },
    "language_info": {
      "pygments_lexer": "ipython3",
      "nbconvert_exporter": "python",
      "file_extension": ".py",
      "mimetype": "text/x-python",
      "codemirror_mode": {
        "name": "ipython",
        "version": 3
      },
      "name": "python",
      "version": "3.5.2"
    }
  },
  "nbformat": 4,
  "nbformat_minor": 4
}