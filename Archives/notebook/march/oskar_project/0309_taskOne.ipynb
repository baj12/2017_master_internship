{
  "cells": [
    {
      "cell_type": "markdown",
      "source": [
        "# task_One \n",
        "## EMV_Augustus pipeline\n",
        "_Date : 03/09/2017_\n",
        "\n",
        "## Goals for task_One\n",
        "- Update Leo pipeline Gene\\_Prediction\\_Genome\\_DB by used __Evidence Base Modeler__ for finding ORF\n",
        "\n",
        "### Final Goal \n",
        "__Show the phylogenetic distribution of oskar in all insect orders__\n",
        "> - Could be very similar to this figure, which contains information about (1) how many species’ genomes/transcriptomes were searched in each insect Order, and (2) whether oskar was found for each species.\n",
        "> - Could simplify, and indicate whether oskar was found at least once in that order – ie, instead of having many data points per order, have only one Y/N point per order.\n",
        "\n\n",
        "## Done\n",
        "- [x] EMV, PASA, mysql, dbd, gmap blat and fasta installed "
      ],
      "metadata": {}
    },
    {
      "cell_type": "markdown",
      "source": [
        "Date: 03/13/2017\n",
        "\n",
        "## Pipeline\n",
        "\n",
        "Gene prediction was done with a combination of __Evidence Modeler__ (Haas et al., 2008) and __Augustus__ (Stanke and Waack, 2003). \n",
        "\n",
        "* The transcriptome was first mapped to the genome using __GMAP__ (Wu and Watanabe, 2005). A secondary transcriptome reference assembly was performed with __STAR/Cufflinks__ (Trapnell et al., 2010; Dobin et al., 2013). The transcriptome mapping and Cufflinks assembly was processed through the PASA pipeline (Haas et al., 2008) to consolidate the annotations. $\\Rightarrow$ __No need for us__\n",
        "* The PASA dataset, a set of __Exonerate__ (Slater and Birney, 2005) mapped Uniprot proteins, and Ab inito __GeneMark__ (Lukashin and Borodovsky, 1998) predictions were consolidated with Evidence Modeler to produce a set of gene annotations. \n",
        "\n$\\Rightarrow$ A high confidence set of gene models from Evidence Modeler containing evidence from all three sources was used to train Augustus."
      ],
      "metadata": {}
    },
    {
      "cell_type": "code",
      "source": [],
      "outputs": [],
      "execution_count": null,
      "metadata": {
        "collapsed": false,
        "outputHidden": false,
        "inputHidden": false
      }
    },
    {
      "cell_type": "code",
      "source": [],
      "outputs": [],
      "execution_count": null,
      "metadata": {
        "collapsed": false,
        "outputHidden": false,
        "inputHidden": false
      }
    }
  ],
  "metadata": {
    "kernelspec": {
      "name": "python3",
      "language": "python",
      "display_name": "Python 3"
    },
    "kernel_info": {
      "name": "python3"
    },
    "language_info": {
      "pygments_lexer": "ipython3",
      "version": "3.5.2",
      "codemirror_mode": {
        "version": 3,
        "name": "ipython"
      },
      "file_extension": ".py",
      "nbconvert_exporter": "python",
      "mimetype": "text/x-python",
      "name": "python"
    }
  },
  "nbformat": 4,
  "nbformat_minor": 4
}