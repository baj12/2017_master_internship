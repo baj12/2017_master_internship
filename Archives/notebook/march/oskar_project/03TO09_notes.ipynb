{
  "cells": [
    {
      "cell_type": "markdown",
      "source": [
        "# Friday, March 3rd\n",
        "\n",
        "## To do\n",
        "- Read Oskar review\n",
        "- Do a roadmap\n",
        "- Look at Leo code in Genomes\n",
        "\n",
        "## Done\n",
        "- [x] Added tools for updating my project notebook\n",
        "- [x] Configured Github project\n",
        "- [x] Learn Markdown language\n",
        "\n",
        "### _For the week-end_\n",
        "1. Wait Cassandra mail for the roadmap :\n",
        "    * Create a roadmap\n",
        "1. Read Oskar review\n",
        "1. Look at Leo code"
      ],
      "metadata": {}
    },
    {
      "cell_type": "markdown",
      "source": [
        "# Monday, March 6th\n",
        "\n",
        "## To do\n",
        "- Read Oskar review\n",
        "- Read about Maxml and Mrbayes\n",
        "\n",
        "## Done\n",
        "- Begun Oskar review"
      ],
      "metadata": {}
    },
    {
      "cell_type": "markdown",
      "source": [
        "# Tuesday, March 7th\n",
        "\n",
        "## To do\n",
        "- Continue Oskar review\n",
        "- Read the other articles\n",
        "\n",
        "## Notes\n",
        "- Have received Tamsin Jones's archives from Cassandra\n"
      ],
      "metadata": {}
    },
    {
      "cell_type": "markdown",
      "source": [
        "# Wednesday, March 8th\n",
        "\n",
        "## To do\n",
        "- Continue Oskar review\n",
        "- Begin Roadmap for Task 1\n",
        "\n",
        "## Done\n",
        "- Installed RAxML on my computer and worked on the manual\n",
        "- Created the beginning of Task 1 roadmap (see __0308\\_taskOne.ipynb__)\n",
        "- Have begun the Python parser (Get _tax\\_id_ and _acession\\_number_ of Insects organisms)\n",
        "\n\n"
      ],
      "metadata": {}
    },
    {
      "cell_type": "markdown",
      "source": [
        "# Thursday, March 9th\n",
        "\n",
        "## Done \n",
        "- [x] Python parser done\n",
        "\n",
        "## To do\n",
        "- Read Documentation on __Evidence Base Modeler__ \n",
        "    - What is the input ?\n",
        "    - How does it work ?\n",
        "    - What will be the output ?\n",
        "- Read Documentation on __Augustus__\n",
        "    - What is the input ?\n",
        "    - How does it work ?\n",
        "    - What will be the output ?  \n",
        "- Test the pipepline on one genome"
      ],
      "metadata": {}
    },
    {
      "cell_type": "markdown",
      "source": [],
      "metadata": {}
    }
  ],
  "metadata": {
    "kernelspec": {
      "name": "python3",
      "language": "python",
      "display_name": "Python 3"
    },
    "kernel_info": {
      "name": "python3"
    },
    "language_info": {
      "nbconvert_exporter": "python",
      "file_extension": ".py",
      "pygments_lexer": "ipython3",
      "version": "3.5.2",
      "mimetype": "text/x-python",
      "codemirror_mode": {
        "version": 3,
        "name": "ipython"
      },
      "name": "python"
    }
  },
  "nbformat": 4,
  "nbformat_minor": 4
}