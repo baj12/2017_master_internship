{
  "cells": [
    {
      "cell_type": "markdown",
      "source": [
        "# task_One \n",
        "## Python Parser\n",
        "_Date : 03/08/2017_\n",
        "\n",
        "## Goals for task_One\n",
        "1. Create a parser to build insectGenomesInfos.csv\n",
        "2. Update Leo pipeline Gene\\_Prediction\\_Genome\\_DB by used __Evidence Base Modeler__ for finding ORF\n",
        "\n",
        "### Final Goal \n",
        "__Show the phylogenetic distribution of oskar in all insect orders__\n",
        "> - Could be very similar to this figure, which contains information about (1) how many species’ genomes/transcriptomes were searched in each insect Order, and (2) whether oskar was found for each species.\n",
        "> - Could simplify, and indicate whether oskar was found at least once in that order – ie, instead of having many data points per order, have only one Y/N point per order.\n",
        "\n\n",
        "## Done \n",
        "- Add parser options in Python parser\n",
        "- Add checkIfInsect() function in Python parser\n",
        "\n"
      ],
      "metadata": {}
    },
    {
      "cell_type": "code",
      "source": [
        "'''\n",
        "Created date : 03-08-2017\n",
        "Test for one tax_id\n",
        "'''\n",
        "\n",
        "from optparse import OptionParser\n",
        "from Bio import Entrez\n",
        "Entrez.email = 'savandara.besse@gmail.com'\n",
        "\n",
        "tax_id = 28584\n",
        "insectDict = {tax_id:{}}"
      ],
      "outputs": [],
      "execution_count": 19,
      "metadata": {
        "collapsed": false,
        "outputHidden": false,
        "inputHidden": false
      }
    },
    {
      "cell_type": "code",
      "source": [
        "handle = Entrez.efetch(db=\"taxonomy\", id=tax_id)\n",
        "record = Entrez.read(handle) "
      ],
      "outputs": [],
      "execution_count": 7,
      "metadata": {
        "collapsed": false,
        "outputHidden": false,
        "inputHidden": false
      }
    },
    {
      "cell_type": "code",
      "source": [
        "lineage_ex = record[0][\"LineageEx\"] \n",
        "for Dict in lineage_ex :\n",
        "\n",
        "    if Dict[\"Rank\"] == \"family\" :\n",
        "        insectDict[tax_id][\"family_name\"] = Dict[\"ScientificName\"]\n",
        "        insectDict[tax_id][\"family_id\"] = Dict[\"TaxId\"]\n",
        "\n",
        "    if Dict[\"Rank\"] == \"order\" : \n",
        "        insectDict[tax_id][\"order_name\"] = Dict[\"ScientificName\"]\n",
        "        insectDict[tax_id][\"order_id\"] = Dict[\"TaxId\"]\n",
        "\n",
        "if \"family_name\" not in insectDict[tax_id]:\n",
        "    insectDict[tax_id][\"family_name\"] = \"N/A\"\n",
        "    insectDict[tax_id][\"family_id\"] = \"N/A\"\n",
        "\n",
        "if \"order_name\" not in insectDict[tax_id]:\n",
        "    insectDict[tax_id][\"family_name\"] = \"N/A\"\n",
        "    insectDict[tax_id][\"family_id\"] = \"N/A\""
      ],
      "outputs": [],
      "execution_count": 9,
      "metadata": {
        "collapsed": false,
        "outputHidden": false,
        "inputHidden": false
      }
    },
    {
      "cell_type": "code",
      "source": [
        "insectDict"
      ],
      "outputs": [
        {
          "output_type": "execute_result",
          "execution_count": 14,
          "data": {
            "text/plain": [
              "{28584: {'family_id': '7214',\n",
              "  'family_name': 'Drosophilidae',\n",
              "  'order_id': '7147',\n",
              "  'order_name': 'Diptera'}}"
            ]
          },
          "metadata": {}
        }
      ],
      "execution_count": 14,
      "metadata": {
        "collapsed": false,
        "outputHidden": false,
        "inputHidden": false
      }
    },
    {
      "cell_type": "markdown",
      "source": [
        "## Notes\n",
        "- __Found 247 Insect Genomes__\n",
        "- __One specie have to be curated by hand : ```tax_id = 48709```__"
      ],
      "metadata": {}
    },
    {
      "cell_type": "markdown",
      "source": [],
      "metadata": {}
    }
  ],
  "metadata": {
    "kernelspec": {
      "name": "python3",
      "language": "python",
      "display_name": "Python 3"
    },
    "kernel_info": {
      "name": "python3"
    },
    "language_info": {
      "mimetype": "text/x-python",
      "file_extension": ".py",
      "version": "3.5.2",
      "codemirror_mode": {
        "version": 3,
        "name": "ipython"
      },
      "pygments_lexer": "ipython3",
      "name": "python",
      "nbconvert_exporter": "python"
    }
  },
  "nbformat": 4,
  "nbformat_minor": 4
}