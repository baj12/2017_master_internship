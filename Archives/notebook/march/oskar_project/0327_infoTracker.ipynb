{
  "cells": [
    {
      "cell_type": "markdown",
      "source": [
        "  # task_One\n",
        "  ## Analyzing output from infoTracker\n",
        "  _Date: 03/27/2017_"
      ],
      "metadata": {}
    },
    {
      "cell_type": "code",
      "source": [
        "import pandas as pd"
      ],
      "outputs": [],
      "execution_count": 2,
      "metadata": {
        "collapsed": false,
        "outputHidden": false,
        "inputHidden": false
      }
    },
    {
      "cell_type": "code",
      "source": [
        "df = pd.read_csv('/home/savy/Documents/2017_master_internship/infoTracker/prot_est_Infos.csv')"
      ],
      "outputs": [],
      "execution_count": 3,
      "metadata": {
        "collapsed": false,
        "outputHidden": false,
        "inputHidden": false
      }
    },
    {
      "cell_type": "code",
      "source": [
        "df.head()"
      ],
      "outputs": [
        {
          "output_type": "execute_result",
          "execution_count": 127,
          "data": {
            "text/html": [
              "<div>\n",
              "<table border=\"1\" class=\"dataframe\">\n",
              "  <thead>\n",
              "    <tr style=\"text-align: right;\">\n",
              "      <th></th>\n",
              "      <th>Species name</th>\n",
              "      <th>Order name</th>\n",
              "      <th>Family name</th>\n",
              "      <th>#Protein</th>\n",
              "      <th>#EST</th>\n",
              "    </tr>\n",
              "  </thead>\n",
              "  <tbody>\n",
              "    <tr>\n",
              "      <th>0</th>\n",
              "      <td>Catajapyx aquilonaris</td>\n",
              "      <td>Diplura</td>\n",
              "      <td>Japygidae</td>\n",
              "      <td>NaN</td>\n",
              "      <td>0</td>\n",
              "    </tr>\n",
              "    <tr>\n",
              "      <th>1</th>\n",
              "      <td>Orchesella cincta</td>\n",
              "      <td>Collembola</td>\n",
              "      <td>Entomobryidae</td>\n",
              "      <td>NaN</td>\n",
              "      <td>1146</td>\n",
              "    </tr>\n",
              "    <tr>\n",
              "      <th>2</th>\n",
              "      <td>Zootermopsis nevadensis</td>\n",
              "      <td>Blattodea</td>\n",
              "      <td>Termopsidae</td>\n",
              "      <td>14610.0</td>\n",
              "      <td>1</td>\n",
              "    </tr>\n",
              "    <tr>\n",
              "      <th>3</th>\n",
              "      <td>Nasutitermes exitiosus</td>\n",
              "      <td>Blattodea</td>\n",
              "      <td>Termitidae</td>\n",
              "      <td>NaN</td>\n",
              "      <td>0</td>\n",
              "    </tr>\n",
              "    <tr>\n",
              "      <th>4</th>\n",
              "      <td>Blattella germanica</td>\n",
              "      <td>Blattodea</td>\n",
              "      <td>Ectobiidae</td>\n",
              "      <td>NaN</td>\n",
              "      <td>8351</td>\n",
              "    </tr>\n",
              "  </tbody>\n",
              "</table>\n",
              "</div>"
            ],
            "text/plain": [
              "              Species name  Order name    Family name  #Protein  #EST\n",
              "0    Catajapyx aquilonaris     Diplura      Japygidae       NaN     0\n",
              "1        Orchesella cincta  Collembola  Entomobryidae       NaN  1146\n",
              "2  Zootermopsis nevadensis   Blattodea    Termopsidae   14610.0     1\n",
              "3   Nasutitermes exitiosus   Blattodea     Termitidae       NaN     0\n",
              "4      Blattella germanica   Blattodea     Ectobiidae       NaN  8351"
            ]
          },
          "metadata": {}
        }
      ],
      "execution_count": 127,
      "metadata": {
        "collapsed": false,
        "outputHidden": false,
        "inputHidden": false
      }
    },
    {
      "cell_type": "code",
      "source": [
        "g = df.groupby(['Order name'])"
      ],
      "outputs": [],
      "execution_count": 5,
      "metadata": {
        "collapsed": false,
        "outputHidden": false,
        "inputHidden": false
      }
    },
    {
      "cell_type": "code",
      "source": [
        "maxEST = g['#EST'].max()"
      ],
      "outputs": [],
      "execution_count": 12,
      "metadata": {
        "collapsed": false,
        "outputHidden": false,
        "inputHidden": false
      }
    },
    {
      "cell_type": "code",
      "source": [
        "maxEST"
      ],
      "outputs": [
        {
          "output_type": "execute_result",
          "execution_count": 13,
          "data": {
            "text/plain": [
              "Order name\n",
              "Blattodea          8322\n",
              "Coleoptera       185437\n",
              "Collembola         1146\n",
              "Diplura               0\n",
              "Diptera          821005\n",
              "Ephemeroptera         0\n",
              "Hemiptera        214834\n",
              "Hymenoptera      169511\n",
              "Lepidoptera      568825\n",
              "Odonata               0\n",
              "Orthoptera        45709\n",
              "Phasmatodea           0\n",
              "Phthiraptera       1127\n",
              "Plecoptera            0\n",
              "Strepsiptera          0\n",
              "Thysanoptera      13839\n",
              "Trichoptera           0\n",
              "Name: #EST, dtype: int64"
            ]
          },
          "metadata": {}
        }
      ],
      "execution_count": 13,
      "metadata": {
        "collapsed": false,
        "outputHidden": false,
        "inputHidden": false
      }
    },
    {
      "cell_type": "code",
      "source": [
        "hmmDict = {}\n",
        "for index in df.index :\n",
        "    for key in maxEST.keys():\n",
        "        if df['Order name'][index] == key and df['#EST'][index] == maxEST[key]:\n",
        "            hmmDict[df['Species name'][index]] = df['#EST'][index]"
      ],
      "outputs": [],
      "execution_count": 14,
      "metadata": {
        "collapsed": false,
        "outputHidden": false,
        "inputHidden": false
      }
    },
    {
      "cell_type": "code",
      "source": [
        "hmmDict"
      ],
      "outputs": [
        {
          "output_type": "execute_result",
          "execution_count": 15,
          "data": {
            "text/plain": [
              "{'Acyrthosiphon pisum': 214834,\n",
              " 'Amphinemura sulcicollis': 0,\n",
              " 'Apis mellifera': 169511,\n",
              " 'Baetis rhodani': 0,\n",
              " 'Blattella germanica': 8322,\n",
              " 'Bombyx mori': 568825,\n",
              " 'Catajapyx aquilonaris': 0,\n",
              " 'Dendroctonus ponderosae': 185437,\n",
              " 'Drosophila melanogaster': 821005,\n",
              " 'Ephemera danica': 0,\n",
              " 'Frankliniella occidentalis': 13839,\n",
              " 'Isoperla grammatica': 0,\n",
              " 'Ladona fulva': 0,\n",
              " 'Limnephilus lunatus': 0,\n",
              " 'Locusta migratoria': 45709,\n",
              " 'Mengenilla moldrzyki': 0,\n",
              " 'Orchesella cincta': 1146,\n",
              " 'Pediculus humanus corporis': 1127,\n",
              " 'Timema cristinae': 0}"
            ]
          },
          "metadata": {}
        }
      ],
      "execution_count": 15,
      "metadata": {
        "collapsed": false,
        "outputHidden": false,
        "inputHidden": false
      }
    },
    {
      "cell_type": "markdown",
      "source": [
        "## Download fasta file from NCBI\n",
        "\n### Test 1"
      ],
      "metadata": {}
    },
    {
      "cell_type": "code",
      "source": [
        "from Bio import Entrez\n",
        "Entrez.email = 'savandara.besse@gmail.com'"
      ],
      "outputs": [],
      "execution_count": 2,
      "metadata": {}
    },
    {
      "cell_type": "code",
      "source": [
        "handle = Entrez.esearch(db=\"nucest\", term='drosophila melanogaster')\n",
        "record = Entrez.read(handle)['IdList']\n",
        "handle.close()\n",
        "record"
      ],
      "outputs": [
        {
          "output_type": "execute_result",
          "execution_count": 3,
          "data": {
            "text/plain": [
              "['527482192', '392859066', '345421511', '342206684', '315905243', '315844150', '315823897', '315823706', '315820860', '315809918', '315803644', '315802413', '315798677', '311205018', '311147959', '302181891', '297251322', '297251281', '297251268', '297251209']"
            ]
          },
          "metadata": {}
        }
      ],
      "execution_count": 3,
      "metadata": {}
    },
    {
      "cell_type": "code",
      "source": [
        "print(\"Parsing...\")\n",
        "record = SeqIO.read('test.fna', \"fasta\")\n",
        "print(record)"
      ],
      "outputs": [
        {
          "output_type": "stream",
          "name": "stdout",
          "text": [
            "Parsing...\n",
            "ID: JZ478789.1\n",
            "Name: JZ478789.1\n",
            "Description: JZ478789.1 01RQ1.12 WSSP Duckweed cDNA library Landoltia punctata cDNA clone 01RQ1.12 5' similar to protein translocation protein, mRNA sequence\n",
            "Number of features: 0\n",
            "Seq('AGAGAGATCGTAGAGGGATTCGGTCAAGAGTACGTTCCCCAGAGGGTTCTACCG...GCA', SingleLetterAlphabet())\n"
          ]
        }
      ],
      "execution_count": 5,
      "metadata": {}
    }
  ],
  "metadata": {
    "kernelspec": {
      "name": "python3",
      "language": "python",
      "display_name": "Python 3"
    },
    "kernel_info": {
      "name": "python3"
    },
    "language_info": {
      "mimetype": "text/x-python",
      "version": "3.5.2",
      "name": "python",
      "pygments_lexer": "ipython3",
      "nbconvert_exporter": "python",
      "file_extension": ".py",
      "codemirror_mode": {
        "version": 3,
        "name": "ipython"
      }
    }
  },
  "nbformat": 4,
  "nbformat_minor": 4
}