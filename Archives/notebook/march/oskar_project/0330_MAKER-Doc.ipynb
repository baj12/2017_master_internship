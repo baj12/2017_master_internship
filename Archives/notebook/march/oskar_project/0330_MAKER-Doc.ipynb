{
  "cells": [
    {
      "cell_type": "markdown",
      "source": [
        "# task_One\n",
        "## How works MAKER\n",
        "_Date: 03/30/2017_\n"
      ],
      "metadata": {}
    },
    {
      "cell_type": "markdown",
      "source": [
        "## Use of genone annotations\n",
        "\n",
        "> Annotations are descriptions of different features of the genome, and they can be structural or functional in nature. \n",
        "   >- Structural Annotations: exons, introns, UTRs, splice forms \n",
        "   >- Functional Annotations: process a gene is involved in, molecular function, location of expression, etc. \n",
        "\n",
        "> It is especially important that all genome annotations include an evidence trail that describes in detail the evidence that was used to both suggest and support each annotation. \n",
        "   >- Ab initio gene predictions - EST - Proteins\n",
        "   \n",
        "> Genome sequence itself is not very useful. The first question that occurs to most of us when a genome is sequenced is, \"where are the genes?\" To identify the genes we need __to annotate__ the genome. And while most researchers probably don't give annotations a lot of thought, they use them everyday. "
      ],
      "metadata": {}
    },
    {
      "cell_type": "markdown",
      "source": [
        "## What does MAKER do?\n",
        "\n",
        "- Identifies and masks out repeat elements\n",
        "- Aligns ESTs to the genome\n",
        "- Aligns proteins to the genome\n",
        "- Produces ab initio gene predictions\n",
        "- Synthesizes these data into final annotations\n",
        "- Produces evidence-based quality values for downstream annotation management "
      ],
      "metadata": {}
    },
    {
      "cell_type": "markdown",
      "source": [
        "## Command lines\n",
        "\n",
        "- `maker -CTL`\n",
        "- add input paths\n",
        "- modify parameters in maker\\_opts.log\n",
        "- `maker`"
      ],
      "metadata": {}
    },
    {
      "cell_type": "code",
      "source": [],
      "outputs": [],
      "execution_count": null,
      "metadata": {
        "collapsed": false,
        "outputHidden": false,
        "inputHidden": false
      }
    }
  ],
  "metadata": {
    "kernelspec": {
      "name": "python3",
      "language": "python",
      "display_name": "Python 3"
    },
    "kernel_info": {
      "name": "python3"
    },
    "language_info": {
      "name": "python",
      "file_extension": ".py",
      "pygments_lexer": "ipython3",
      "nbconvert_exporter": "python",
      "codemirror_mode": {
        "name": "ipython",
        "version": 3
      },
      "version": "3.5.2",
      "mimetype": "text/x-python"
    }
  },
  "nbformat": 4,
  "nbformat_minor": 4
}