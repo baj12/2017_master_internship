{
  "cells": [
    {
      "cell_type": "markdown",
      "source": [
        "# Match result Oskar_Tracker and Genome_search\n",
        "_Date:03/20/2017_\n",
        "\n",
        "- Check how many genomes can be skipped by oskarTracker\n",
        "- Notice that 10 genomes are ignored in genome\\_search"
      ],
      "metadata": {
        "collapsed": false,
        "outputHidden": false,
        "inputHidden": false
      }
    },
    {
      "cell_type": "code",
      "source": [
        "import pandas as pd\n",
        "import re"
      ],
      "outputs": [],
      "execution_count": 12,
      "metadata": {}
    },
    {
      "cell_type": "code",
      "source": [
        "oskar_init = pd.read_csv(\"~/Documents/Internship/2017_master_internship/oskarTracker/genome_search\", header=None)\n",
        "len(oskar_init)"
      ],
      "outputs": [
        {
          "output_type": "execute_result",
          "execution_count": 25,
          "data": {
            "text/plain": [
              "48"
            ]
          },
          "metadata": {}
        }
      ],
      "execution_count": 25,
      "metadata": {}
    },
    {
      "cell_type": "code",
      "source": [
        "tracking_result = pd.read_csv(\"~/Documents/Internship/2017_master_internship/oskarTracker/first_tracking_result\", header=None)\n",
        "len(tracking_result)"
      ],
      "outputs": [
        {
          "output_type": "execute_result",
          "execution_count": 26,
          "data": {
            "text/plain": [
              "38"
            ]
          },
          "metadata": {}
        }
      ],
      "execution_count": 26,
      "metadata": {}
    },
    {
      "cell_type": "code",
      "source": [
        "genome_list = []\n",
        "\n",
        "for line in tracking_result[0] :\n",
        "    genome = re.findall(r'(^[A-Z]{3}_[0-9]{9}).[0-9]{1}', line)[0]\n",
        "    if genome is not None :\n",
        "        genome_list.append(genome)\n",
        "\nlen(genome_list)"
      ],
      "outputs": [
        {
          "output_type": "execute_result",
          "execution_count": 37,
          "data": {
            "text/plain": [
              "38"
            ]
          },
          "metadata": {}
        }
      ],
      "execution_count": 37,
      "metadata": {}
    },
    {
      "cell_type": "code",
      "source": [
        "genome_not_found = []\n",
        "for genome in oskar_init[0]:\n",
        "    genome = re.findall(r'(^[A-Z]{3}_[0-9]{9}).[0-9]{1}', genome)[0]\n",
        "    if genome not in genome_list :\n",
        "        genome_not_found.append(genome)\n",
        "        \n",
        "genome_not_found"
      ],
      "outputs": [
        {
          "output_type": "execute_result",
          "execution_count": 41,
          "data": {
            "text/plain": [
              "['GCA_000441895',\n",
              " 'GCA_000001215',\n",
              " 'GCA_000259055',\n",
              " 'GCA_000005215',\n",
              " 'GCA_000269505',\n",
              " 'GCA_000001765',\n",
              " 'GCA_000298335',\n",
              " 'GCA_000005245',\n",
              " 'GCA_000004015',\n",
              " 'GCA_000441895']"
            ]
          },
          "metadata": {}
        }
      ],
      "execution_count": 41,
      "metadata": {
        "collapsed": false,
        "outputHidden": false,
        "inputHidden": false
      }
    },
    {
      "cell_type": "markdown",
      "source": [
        "# Comments:\n",
        "- ID genomes on genome search have changed on Eukaryotes.txt\n",
        "- We have to update our genome_search file"
      ],
      "metadata": {
        "collapsed": false,
        "outputHidden": false,
        "inputHidden": false
      }
    },
    {
      "cell_type": "code",
      "source": [],
      "outputs": [],
      "execution_count": null,
      "metadata": {
        "collapsed": false,
        "outputHidden": false,
        "inputHidden": false
      }
    },
    {
      "cell_type": "code",
      "source": [],
      "outputs": [],
      "execution_count": null,
      "metadata": {
        "collapsed": false,
        "outputHidden": false,
        "inputHidden": false
      }
    }
  ],
  "metadata": {
    "kernelspec": {
      "name": "python3",
      "language": "python",
      "display_name": "Python 3"
    },
    "kernel_info": {
      "name": "python3"
    },
    "language_info": {
      "file_extension": ".py",
      "name": "python",
      "codemirror_mode": {
        "version": 3,
        "name": "ipython"
      },
      "version": "3.5.2",
      "mimetype": "text/x-python",
      "pygments_lexer": "ipython3",
      "nbconvert_exporter": "python"
    }
  },
  "nbformat": 4,
  "nbformat_minor": 4
}