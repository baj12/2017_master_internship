{
  "cells": [
    {
      "cell_type": "markdown",
      "source": [
        "# Match result Oskar_Tracker and Genome_search\n",
        "_Date:03/20/2017_\n",
        "\n",
        "- Check how many genomes can be skipped by oskarTracker\n",
        "- Notice that 10 genomes are ignored in genome\\_search"
      ],
      "metadata": {
        "collapsed": false,
        "outputHidden": false,
        "inputHidden": false
      }
    },
    {
      "cell_type": "code",
      "source": [
        "import pandas as pd\n",
        "import re"
      ],
      "outputs": [],
      "execution_count": 1,
      "metadata": {}
    },
    {
      "cell_type": "code",
      "source": [
        "oskar_init = pd.read_csv(\"~/Documents/Internship/2017_master_internship/oskarTracker/genome_search\", header=None)\n",
        "len(oskar_init)"
      ],
      "outputs": [
        {
          "output_type": "execute_result",
          "execution_count": 2,
          "data": {
            "text/plain": [
              "47"
            ]
          },
          "metadata": {}
        }
      ],
      "execution_count": 2,
      "metadata": {}
    },
    {
      "cell_type": "code",
      "source": [
        "tracking_result = [\n",
        "'GCA_000236325.2_Deug_2.0 already known to have Oskar sequence',\n",
        "'GCA_001594075.1_Tcor1.0 already known to have Oskar sequence',\n",
        "'GCA_000473375.1_Anop_culi_species_A-37_1_V1 already known to have Oskar sequence',\n",
        "'GCA_000143395.2_Attacep1.0 already known to have Oskar sequence',\n",
        "'GCA_000224215.2_Dkik_2.0 already known to have Oskar sequence',\n",
        "'GCA_000789215.2_ASM78921v2 already known to have Oskar sequence',\n",
        "'GCA_001313835.1_ASM131383v1 already known to have Oskar sequence',\n",
        "'GCA_001313835.1_ASM131383v1 already known to have Oskar sequence',\n",
        "'GCA_000233415.2_Dbia_2.0 already known to have Oskar sequence',\n",
        "'GCA_000005175.1_dmoj_caf1 already known to have Oskar sequence',\n",
        "'GCA_000572035.2_Mdem2 already known to have Oskar sequence',\n",
        "'GCA_000005135.1_dere_caf1 already known to have Oskar sequence',\n",
        "'GCA_000005925.1_dwil_caf1 already known to have Oskar sequence',\n",
        "'GCA_000005195.1_dper_caf1 already known to have Oskar sequence',\n",
        "'GCA_000224235.2_Dtak_2.0 already known to have Oskar sequence',\n",
        "'GCA_000204515.1_Aech_3.9 already known to have Oskar sequence',\n",
        "'GCA_000349185.1_Anop_arab_DONG5_A_V1 already known to have Oskar sequence',\n",
        "'GCA_000005575.1_AgamP3 already known to have Oskar sequence',\n",
        "'GCA_000236305.2_Drho_2.0 already known to have Oskar sequence',\n",
        "'GCA_000349125.1_Anop_albi_ALBI9_A_V1 already known to have Oskar sequence',\n",
        "'GCA_000473845.2_Anop_meru_MAF_V1 already known to have Oskar sequence',\n",
        "'GCA_000371365.1_Musca_domestica-2.0.2 already known to have Oskar sequence',\n",
        "'GCA_000188075.1_Si_gnG already known to have Oskar sequence',\n",
        "'GCA_001594045.1_Acol1.0 already known to have Oskar sequence',\n",
        "'GCA_000349085.1_Anop_fune_FUMOZ_V1 already known to have Oskar sequence',\n",
        "'GCA_000217595.1_Lhum_UMD_V04 already known to have Oskar sequence',\n",
        "'GCA_000349065.1_Anop_quad_QUAD4_A_V1 already known to have Oskar sequence',\n",
        "'GCA_000220665.2_Dfic_2.0 already known to have Oskar sequence',\n",
        "'GCA_000236285.2_Dbip_2.0 already known to have Oskar sequence',\n",
        "'GCA_000005155.1_dgri_caf1 already known to have Oskar sequence',\n",
        "'GCA_001014445.1_ASM101444v1 already known to have Oskar sequence',\n",
        "'GCA_000347755.2_Ccap_1.1 already known to have Oskar sequence',\n",
        "'GCA_000005975.1_dyak_caf1 already known to have Oskar sequence',\n",
        "'GCA_000002325.2_Nvit_2.1 already known to have Oskar sequence',\n",
        "'GCA_000224195.2_Dele_2.0 already known to have Oskar sequence',\n",
        "'GCA_000209185.1_CulPip1.0 already known to have Oskar sequence',\n",
        "'GCA_000209185.1_CulPip1.0 already known to have Oskar sequence',\n",
        "'GCA_000005115.1_dana_caf1 already known to have Oskar sequence']\n",
        "len(tracking_result)"
      ],
      "outputs": [
        {
          "output_type": "execute_result",
          "execution_count": 3,
          "data": {
            "text/plain": [
              "38"
            ]
          },
          "metadata": {}
        }
      ],
      "execution_count": 3,
      "metadata": {}
    },
    {
      "cell_type": "code",
      "source": [
        "genome_list = []\n",
        "\n",
        "for line in tracking_result :\n",
        "    genome = re.findall(r'(^[A-Z]{3}_[0-9]{9}).[0-9]{1}', line)[0]\n",
        "    if genome is not None :\n",
        "        genome_list.append(genome)\n",
        "\nlen(genome_list)"
      ],
      "outputs": [
        {
          "output_type": "execute_result",
          "execution_count": 5,
          "data": {
            "text/plain": [
              "38"
            ]
          },
          "metadata": {}
        }
      ],
      "execution_count": 5,
      "metadata": {}
    },
    {
      "cell_type": "code",
      "source": [
        "genome_not_found = []\n",
        "for genome in oskar_init[0]:\n",
        "    genome = re.findall(r'(^[A-Z]{3}_[0-9]{9}).[0-9]{1}', genome)[0]\n",
        "    if genome not in genome_list :\n",
        "        genome_not_found.append(genome)\n",
        "        \n",
        "genome_not_found"
      ],
      "outputs": [
        {
          "output_type": "execute_result",
          "execution_count": 6,
          "data": {
            "text/plain": [
              "['GCA_000472065',\n",
              " 'GCA_001014345',\n",
              " 'GCA_000525065',\n",
              " 'GCA_000525085',\n",
              " 'GCA_001014365',\n",
              " 'GCA_000149495',\n",
              " 'GCA_001014995',\n",
              " 'GCA_000004125',\n",
              " 'GCA_001014885']"
            ]
          },
          "metadata": {}
        }
      ],
      "execution_count": 6,
      "metadata": {
        "collapsed": false,
        "outputHidden": false,
        "inputHidden": false
      }
    },
    {
      "cell_type": "markdown",
      "source": [
        "# Comments:\n",
        "- ID genomes on genome search have changed on Eukaryotes.txt\n",
        "- We have to update our genome_search file\n",
        "\n\n",
        "# Update:\n",
        "_Date: 03/23/2017_\n",
        "- These genomes are right\n",
        "    - The errors come from `build_InsectGenomesInfos.py`  because Number Accession was not unique ...\n",
        "    - Solution: Change the number accession in genome\\_search and in curated\\_InsectGenomesInfos.csv"
      ],
      "metadata": {
        "collapsed": false,
        "outputHidden": false,
        "inputHidden": false
      }
    },
    {
      "cell_type": "code",
      "source": [],
      "outputs": [],
      "execution_count": null,
      "metadata": {
        "collapsed": false,
        "outputHidden": false,
        "inputHidden": false
      }
    },
    {
      "cell_type": "code",
      "source": [],
      "outputs": [],
      "execution_count": null,
      "metadata": {
        "collapsed": false,
        "outputHidden": false,
        "inputHidden": false
      }
    }
  ],
  "metadata": {
    "kernelspec": {
      "name": "python3",
      "language": "python",
      "display_name": "Python 3"
    },
    "kernel_info": {
      "name": "python3"
    },
    "language_info": {
      "codemirror_mode": {
        "name": "ipython",
        "version": 3
      },
      "name": "python",
      "mimetype": "text/x-python",
      "pygments_lexer": "ipython3",
      "file_extension": ".py",
      "version": "3.5.2",
      "nbconvert_exporter": "python"
    }
  },
  "nbformat": 4,
  "nbformat_minor": 4
}