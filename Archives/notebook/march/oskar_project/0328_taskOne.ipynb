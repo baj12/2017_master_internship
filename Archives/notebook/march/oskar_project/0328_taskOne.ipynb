{
  "cells": [
    {
      "cell_type": "markdown",
      "source": [
        "# task_One\n",
        "\n",
        "## Download fasta file from NCBI\n",
        "\n",
        "_Date: 03/28/2017_\n",
        "\n### Test 2"
      ],
      "metadata": {}
    },
    {
      "cell_type": "code",
      "source": [
        "from Bio import Entrez\n",
        "Entrez.email = 'savandara.besse@gmail.com'"
      ],
      "outputs": [],
      "execution_count": 1,
      "metadata": {
        "collapsed": false,
        "outputHidden": false,
        "inputHidden": false
      }
    },
    {
      "cell_type": "code",
      "source": [
        "search_handle = Entrez.esearch(db=\"nucest\",term=\"Drosophila melanogaster[Organism]\")\n",
        "results = Entrez.read(search_handle)\n",
        "search_handle.close()"
      ],
      "outputs": [],
      "execution_count": 4,
      "metadata": {
        "collapsed": false,
        "outputHidden": false,
        "inputHidden": false
      }
    },
    {
      "cell_type": "code",
      "source": [
        "results['Count']"
      ],
      "outputs": [
        {
          "output_type": "execute_result",
          "execution_count": 6,
          "data": {
            "text/plain": [
              "20"
            ]
          },
          "metadata": {}
        }
      ],
      "execution_count": 6,
      "metadata": {
        "collapsed": false,
        "outputHidden": false,
        "inputHidden": false
      }
    },
    {
      "cell_type": "code",
      "source": [
        "search_handle = Entrez.esearch(db=\"nucest\",term=\"Drosophila melanogaster[Organism]\", retmax=results['Count'])\n",
        "final_result = Entrez.read(search_handle)\n",
        "search_handle.close()"
      ],
      "outputs": [],
      "execution_count": 7,
      "metadata": {
        "collapsed": false,
        "outputHidden": false,
        "inputHidden": false
      }
    },
    {
      "cell_type": "code",
      "source": [
        "len(final_result['IdList'])"
      ],
      "outputs": [
        {
          "output_type": "execute_result",
          "execution_count": 8,
          "data": {
            "text/plain": [
              "821005"
            ]
          },
          "metadata": {}
        }
      ],
      "execution_count": 8,
      "metadata": {
        "collapsed": false,
        "outputHidden": false,
        "inputHidden": false
      }
    },
    {
      "cell_type": "code",
      "source": [
        "out_handle = open('test.fna', \"w\")\n",
        "for elem in results['IdList'] :\n",
        "    net_handle = Entrez.efetch(db=\"nucest\", id=elem, rettype=\"fasta\", retmode=\"text\")\n",
        "    out_handle.write(net_handle.read())\n",
        "out_handle.close()\n",
        "net_handle.close()\n",
        "print(\"Saved\")"
      ],
      "outputs": [],
      "execution_count": 40,
      "metadata": {
        "collapsed": false,
        "outputHidden": false,
        "inputHidden": false
      }
    },
    {
      "cell_type": "code",
      "source": [
        "import pandas as pd \n",
        "\n",
        "df = pd.read_csv('/home/savy/Documents/2017_master_internship/infoTracker/hmmOrder.csv')\n",
        "df"
      ],
      "outputs": [
        {
          "output_type": "execute_result",
          "execution_count": 11,
          "data": {
            "text/html": [
              "<div>\n",
              "<table border=\"1\" class=\"dataframe\">\n",
              "  <thead>\n",
              "    <tr style=\"text-align: right;\">\n",
              "      <th></th>\n",
              "      <th>Order name</th>\n",
              "      <th>Species name</th>\n",
              "      <th>#Protein</th>\n",
              "      <th>#EST</th>\n",
              "    </tr>\n",
              "  </thead>\n",
              "  <tbody>\n",
              "    <tr>\n",
              "      <th>0</th>\n",
              "      <td>Blattodea</td>\n",
              "      <td>Zootermopsis nevadensis</td>\n",
              "      <td>14610.0</td>\n",
              "      <td>8322</td>\n",
              "    </tr>\n",
              "    <tr>\n",
              "      <th>1</th>\n",
              "      <td>Coleoptera</td>\n",
              "      <td>Tribolium castaneum</td>\n",
              "      <td>18534.0</td>\n",
              "      <td>185437</td>\n",
              "    </tr>\n",
              "    <tr>\n",
              "      <th>2</th>\n",
              "      <td>Collembola</td>\n",
              "      <td>Orchesella cincta</td>\n",
              "      <td>NaN</td>\n",
              "      <td>1146</td>\n",
              "    </tr>\n",
              "    <tr>\n",
              "      <th>3</th>\n",
              "      <td>Diplura</td>\n",
              "      <td>Catajapyx aquilonaris</td>\n",
              "      <td>NaN</td>\n",
              "      <td>0</td>\n",
              "    </tr>\n",
              "    <tr>\n",
              "      <th>4</th>\n",
              "      <td>Diptera</td>\n",
              "      <td>Zaprionus indianus</td>\n",
              "      <td>23304.0</td>\n",
              "      <td>821005</td>\n",
              "    </tr>\n",
              "    <tr>\n",
              "      <th>5</th>\n",
              "      <td>Ephemeroptera</td>\n",
              "      <td>Ephemera danica</td>\n",
              "      <td>NaN</td>\n",
              "      <td>0</td>\n",
              "    </tr>\n",
              "    <tr>\n",
              "      <th>6</th>\n",
              "      <td>Hemiptera</td>\n",
              "      <td>Trionymus perrisii</td>\n",
              "      <td>NaN</td>\n",
              "      <td>214834</td>\n",
              "    </tr>\n",
              "    <tr>\n",
              "      <th>7</th>\n",
              "      <td>Hymenoptera</td>\n",
              "      <td>Wasmannia auropunctata</td>\n",
              "      <td>18742.0</td>\n",
              "      <td>169511</td>\n",
              "    </tr>\n",
              "    <tr>\n",
              "      <th>8</th>\n",
              "      <td>Lepidoptera</td>\n",
              "      <td>Spodoptera frugiperda</td>\n",
              "      <td>16912.0</td>\n",
              "      <td>568825</td>\n",
              "    </tr>\n",
              "    <tr>\n",
              "      <th>9</th>\n",
              "      <td>Odonata</td>\n",
              "      <td>Ladona fulva</td>\n",
              "      <td>NaN</td>\n",
              "      <td>0</td>\n",
              "    </tr>\n",
              "    <tr>\n",
              "      <th>10</th>\n",
              "      <td>Orthoptera</td>\n",
              "      <td>Locusta migratoria</td>\n",
              "      <td>NaN</td>\n",
              "      <td>45709</td>\n",
              "    </tr>\n",
              "    <tr>\n",
              "      <th>11</th>\n",
              "      <td>Phasmatodea</td>\n",
              "      <td>Timema cristinae</td>\n",
              "      <td>NaN</td>\n",
              "      <td>0</td>\n",
              "    </tr>\n",
              "    <tr>\n",
              "      <th>12</th>\n",
              "      <td>Phthiraptera</td>\n",
              "      <td>Pediculus humanus corporis</td>\n",
              "      <td>10775.0</td>\n",
              "      <td>1127</td>\n",
              "    </tr>\n",
              "    <tr>\n",
              "      <th>13</th>\n",
              "      <td>Plecoptera</td>\n",
              "      <td>Isoperla grammatica</td>\n",
              "      <td>NaN</td>\n",
              "      <td>0</td>\n",
              "    </tr>\n",
              "    <tr>\n",
              "      <th>14</th>\n",
              "      <td>Strepsiptera</td>\n",
              "      <td>Mengenilla moldrzyki</td>\n",
              "      <td>NaN</td>\n",
              "      <td>0</td>\n",
              "    </tr>\n",
              "    <tr>\n",
              "      <th>15</th>\n",
              "      <td>Thysanoptera</td>\n",
              "      <td>Frankliniella occidentalis</td>\n",
              "      <td>NaN</td>\n",
              "      <td>13839</td>\n",
              "    </tr>\n",
              "    <tr>\n",
              "      <th>16</th>\n",
              "      <td>Trichoptera</td>\n",
              "      <td>Limnephilus lunatus</td>\n",
              "      <td>NaN</td>\n",
              "      <td>0</td>\n",
              "    </tr>\n",
              "  </tbody>\n",
              "</table>\n",
              "</div>"
            ],
            "text/plain": [
              "       Order name                Species name  #Protein    #EST\n",
              "0       Blattodea     Zootermopsis nevadensis   14610.0    8322\n",
              "1      Coleoptera         Tribolium castaneum   18534.0  185437\n",
              "2      Collembola           Orchesella cincta       NaN    1146\n",
              "3         Diplura       Catajapyx aquilonaris       NaN       0\n",
              "4         Diptera          Zaprionus indianus   23304.0  821005\n",
              "5   Ephemeroptera             Ephemera danica       NaN       0\n",
              "6       Hemiptera          Trionymus perrisii       NaN  214834\n",
              "7     Hymenoptera      Wasmannia auropunctata   18742.0  169511\n",
              "8     Lepidoptera       Spodoptera frugiperda   16912.0  568825\n",
              "9         Odonata                Ladona fulva       NaN       0\n",
              "10     Orthoptera          Locusta migratoria       NaN   45709\n",
              "11    Phasmatodea            Timema cristinae       NaN       0\n",
              "12   Phthiraptera  Pediculus humanus corporis   10775.0    1127\n",
              "13     Plecoptera         Isoperla grammatica       NaN       0\n",
              "14   Strepsiptera        Mengenilla moldrzyki       NaN       0\n",
              "15   Thysanoptera  Frankliniella occidentalis       NaN   13839\n",
              "16    Trichoptera         Limnephilus lunatus       NaN       0"
            ]
          },
          "metadata": {}
        }
      ],
      "execution_count": 11,
      "metadata": {
        "collapsed": false,
        "outputHidden": false,
        "inputHidden": false
      }
    },
    {
      "cell_type": "code",
      "source": [
        "print(df['Species name'])"
      ],
      "outputs": [
        {
          "output_type": "stream",
          "name": "stdout",
          "text": [
            "0        Zootermopsis nevadensis\n",
            "1            Tribolium castaneum\n",
            "2              Orchesella cincta\n",
            "3          Catajapyx aquilonaris\n",
            "4             Zaprionus indianus\n",
            "5                Ephemera danica\n",
            "6             Trionymus perrisii\n",
            "7         Wasmannia auropunctata\n",
            "8          Spodoptera frugiperda\n",
            "9                   Ladona fulva\n",
            "10            Locusta migratoria\n",
            "11              Timema cristinae\n",
            "12    Pediculus humanus corporis\n",
            "13           Isoperla grammatica\n",
            "14          Mengenilla moldrzyki\n",
            "15    Frankliniella occidentalis\n",
            "16           Limnephilus lunatus\n",
            "Name: Species name, dtype: object\n"
          ]
        }
      ],
      "execution_count": 15,
      "metadata": {
        "collapsed": false,
        "outputHidden": false,
        "inputHidden": false
      }
    },
    {
      "cell_type": "code",
      "source": [],
      "outputs": [],
      "execution_count": null,
      "metadata": {
        "collapsed": false,
        "outputHidden": false,
        "inputHidden": false
      }
    }
  ],
  "metadata": {
    "kernelspec": {
      "name": "python3",
      "language": "python",
      "display_name": "Python 3"
    },
    "kernel_info": {
      "name": "python3"
    },
    "language_info": {
      "nbconvert_exporter": "python",
      "file_extension": ".py",
      "codemirror_mode": {
        "version": 3,
        "name": "ipython"
      },
      "name": "python",
      "pygments_lexer": "ipython3",
      "version": "3.5.2",
      "mimetype": "text/x-python"
    }
  },
  "nbformat": 4,
  "nbformat_minor": 4
}