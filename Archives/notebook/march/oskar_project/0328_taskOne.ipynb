{
  "cells": [
    {
      "cell_type": "markdown",
      "source": [
        "# task_One\n",
        "\n",
        "## Download fasta file from NCBI\n",
        "\n",
        "_Date: 03/28/2017_\n",
        "\n### Test 2"
      ],
      "metadata": {}
    },
    {
      "cell_type": "code",
      "source": [
        "from Bio import Entrez\n",
        "Entrez.email = 'savandara.besse@gmail.com'"
      ],
      "outputs": [],
      "execution_count": 1,
      "metadata": {
        "collapsed": false,
        "outputHidden": false,
        "inputHidden": false
      }
    },
    {
      "cell_type": "code",
      "source": [
        "search_handle = Entrez.esearch(db=\"nucest\",term=\"Drosophila melanogaster[Organism]\")\n",
        "results = Entrez.read(search_handle)\n",
        "search_handle.close()"
      ],
      "outputs": [],
      "execution_count": 4,
      "metadata": {
        "collapsed": false,
        "outputHidden": false,
        "inputHidden": false
      }
    },
    {
      "cell_type": "code",
      "source": [
        "results['Count']"
      ],
      "outputs": [
        {
          "output_type": "execute_result",
          "execution_count": 6,
          "data": {
            "text/plain": [
              "20"
            ]
          },
          "metadata": {}
        }
      ],
      "execution_count": 6,
      "metadata": {
        "collapsed": false,
        "outputHidden": false,
        "inputHidden": false
      }
    },
    {
      "cell_type": "code",
      "source": [
        "search_handle = Entrez.esearch(db=\"nucest\",term=\"Drosophila melanogaster[Organism]\", retmax=results['Count'])\n",
        "final_result = Entrez.read(search_handle)\n",
        "search_handle.close()"
      ],
      "outputs": [],
      "execution_count": 7,
      "metadata": {
        "collapsed": false,
        "outputHidden": false,
        "inputHidden": false
      }
    },
    {
      "cell_type": "code",
      "source": [
        "len(final_result['IdList'])"
      ],
      "outputs": [
        {
          "output_type": "execute_result",
          "execution_count": 8,
          "data": {
            "text/plain": [
              "821005"
            ]
          },
          "metadata": {}
        }
      ],
      "execution_count": 8,
      "metadata": {
        "collapsed": false,
        "outputHidden": false,
        "inputHidden": false
      }
    },
    {
      "cell_type": "code",
      "source": [
        "out_handle = open('test.fna', \"w\")\n",
        "for elem in results['IdList'] :\n",
        "    net_handle = Entrez.efetch(db=\"nucest\", id=elem, rettype=\"fasta\", retmode=\"text\")\n",
        "    out_handle.write(net_handle.read())\n",
        "out_handle.close()\n",
        "net_handle.close()\n",
        "print(\"Saved\")"
      ],
      "outputs": [],
      "execution_count": 40,
      "metadata": {
        "collapsed": false,
        "outputHidden": false,
        "inputHidden": false
      }
    },
    {
      "cell_type": "code",
      "source": [],
      "outputs": [],
      "execution_count": null,
      "metadata": {
        "collapsed": false,
        "outputHidden": false,
        "inputHidden": false
      }
    }
  ],
  "metadata": {
    "kernelspec": {
      "name": "python3",
      "language": "python",
      "display_name": "Python 3"
    },
    "kernel_info": {
      "name": "python3"
    },
    "language_info": {
      "pygments_lexer": "ipython3",
      "nbconvert_exporter": "python",
      "version": "3.5.2",
      "codemirror_mode": {
        "version": 3,
        "name": "ipython"
      },
      "name": "python",
      "file_extension": ".py",
      "mimetype": "text/x-python"
    }
  },
  "nbformat": 4,
  "nbformat_minor": 4
}