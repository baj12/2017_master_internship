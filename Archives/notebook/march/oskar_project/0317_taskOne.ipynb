{
  "cells": [
    {
      "cell_type": "markdown",
      "source": [
        "# task_One\n",
        "## Create a pipeline to execute Exonerate on all the genome\n",
        "_Date: 03/17/2016_"
      ],
      "metadata": {}
    },
    {
      "cell_type": "code",
      "source": [
        "import os \n",
        "import sys\n",
        "import re"
      ],
      "outputs": [],
      "execution_count": 3,
      "metadata": {}
    },
    {
      "cell_type": "code",
      "source": [
        "os.system('sshpass -p cassandra ssh mpi@cluster')\n",
        "os.system('cd /storage/AllGenomes/ && ls')\n",
        "\n\n"
      ],
      "outputs": [],
      "execution_count": 11,
      "metadata": {
        "collapsed": false,
        "outputHidden": false,
        "inputHidden": false
      }
    },
    {
      "cell_type": "code",
      "source": [
        "exonerate --showtargetgff yes --showalignment yes --showvulgar yes --model protein2genome --percent 50 -t ../Archives/GCF_000001215.4_Release_6_plus_ISO1_MT_genomic.fna -q ../Archives/OSKAR_FINAL.fasta"
      ],
      "outputs": [
        {
          "output_type": "error",
          "ename": "SyntaxError",
          "evalue": "invalid syntax (<ipython-input-1-0303d67cc996>, line 1)",
          "traceback": [
            "\u001b[0;36m  File \u001b[0;32m\"<ipython-input-1-0303d67cc996>\"\u001b[0;36m, line \u001b[0;32m1\u001b[0m\n\u001b[0;31m    exonerate --showtargetgff yes --showalignment yes --showvulgar yes --model protein2genome --percent 50 -t ../Archives/GCF_000001215.4_Release_6_plus_ISO1_MT_genomic.fna -q ../Archives/OSKAR_FINAL.fasta\u001b[0m\n\u001b[0m                                ^\u001b[0m\n\u001b[0;31mSyntaxError\u001b[0m\u001b[0;31m:\u001b[0m invalid syntax\n"
          ]
        }
      ],
      "execution_count": 1,
      "metadata": {
        "collapsed": false,
        "outputHidden": false,
        "inputHidden": false
      }
    },
    {
      "cell_type": "code",
      "source": [],
      "outputs": [],
      "execution_count": null,
      "metadata": {
        "collapsed": false,
        "outputHidden": false,
        "inputHidden": false
      }
    }
  ],
  "metadata": {
    "kernelspec": {
      "name": "python3",
      "language": "python",
      "display_name": "Python 3"
    },
    "kernel_info": {
      "name": "python3"
    },
    "language_info": {
      "name": "python",
      "version": "3.5.2",
      "nbconvert_exporter": "python",
      "pygments_lexer": "ipython3",
      "codemirror_mode": {
        "name": "ipython",
        "version": 3
      },
      "mimetype": "text/x-python",
      "file_extension": ".py"
    }
  },
  "nbformat": 4,
  "nbformat_minor": 4
}