{
  "cells": [
    {
      "cell_type": "markdown",
      "source": [
        "# Friday, March 17th\n",
        "\n",
        "## To do\n",
        "- Choose a model of each order (for determinating if we have to use EVM for all the orders)\n",
        "- Finally testing EVM !!!!\n",
        "\n",
        "## Done \n",
        "- [x] Understand all the pipeline and know all the commands to run\n",
        "\n",
        "## In progress\n",
        "- See about gene_annotations in each directories\n",
        "\n",
        "## New idea\n",
        "- Do a first filter to check which species has the oskar gene or by not by genome mapping with the oskar gene list\n",
        "- After do only EMV_Augustus pipeline on species which don't have oskar sequence\n",
        "    * If the species have already annotations, apply only Augustus\n",
        "    * Else, apply all the pipeline"
      ],
      "metadata": {}
    },
    {
      "cell_type": "markdown",
      "source": [
        "# Monday, March 20th\n",
        "\n",
        "## Done\n",
        "- [x] Test EVM (but something wrong after execute commands)\n",
        "\n",
        "## In progress\n",
        "- Exonerate pipeline for finding Oskar"
      ],
      "metadata": {}
    },
    {
      "cell_type": "markdown",
      "source": [],
      "metadata": {}
    },
    {
      "cell_type": "code",
      "source": [],
      "outputs": [],
      "execution_count": null,
      "metadata": {
        "collapsed": false,
        "outputHidden": false,
        "inputHidden": false
      }
    }
  ],
  "metadata": {
    "kernelspec": {
      "name": "python3",
      "language": "python",
      "display_name": "Python 3"
    },
    "kernel_info": {
      "name": "python3"
    },
    "language_info": {
      "version": "3.5.2",
      "file_extension": ".py",
      "nbconvert_exporter": "python",
      "pygments_lexer": "ipython3",
      "name": "python",
      "mimetype": "text/x-python",
      "codemirror_mode": {
        "version": 3,
        "name": "ipython"
      }
    }
  },
  "nbformat": 4,
  "nbformat_minor": 4
}