{
  "cells": [
    {
      "cell_type": "markdown",
      "source": [
        "## Modifying genome_sucking.py\n",
        "_Date: 03/15/2017_"
      ],
      "metadata": {
        "collapsed": false,
        "outputHidden": false,
        "inputHidden": false
      }
    },
    {
      "cell_type": "code",
      "source": [
        "import pandas as pd\n",
        "import re\n",
        "import os"
      ],
      "outputs": [],
      "execution_count": 2,
      "metadata": {}
    },
    {
      "cell_type": "code",
      "source": [
        "pathcsv=\"/home/savandara/Documents/Internship/2017_master_internship/curated_insectGenomesInfos.csv\"\n",
        "\n",
        "datatofetch = pd.read_csv(pathcsv)\n",
        "gIDtofetch = datatofetch['Accession number'].values\n",
        "len(gIDtofetch)"
      ],
      "outputs": [
        {
          "output_type": "execute_result",
          "execution_count": 4,
          "data": {
            "text/plain": [
              "246"
            ]
          },
          "metadata": {}
        }
      ],
      "execution_count": 4,
      "metadata": {}
    },
    {
      "cell_type": "markdown",
      "source": [
        "_Date: 03/15/2017_\n",
        "### Comment:\n",
        "- I have noticed that our file AllGenomes is not updated because I cannot find all the Accession number listed in gIDtofetch (just 171 on 246) \n",
        "\n",
        "$\\rightarrow$ Looking for some update of our datafile AllGenome to fix the problem (__not found!__)\n",
        "\n",
        "$\\rightarrow$ __Solution from Leo__: Change all the code, don't need to use a file called AllGenomes, just have to fetch all genomes through their repertorie : ftp://ftp.ncbi.nih.gov/genomes/all/.../.../.../... (with regular expressions)\n"
      ],
      "metadata": {}
    },
    {
      "cell_type": "code",
      "source": [
        "for i in range(len(gIDtofetch)):\n",
        "\targ = re.findall(\"(^[A-Z]{3})_([0-9]{3})([0-9]{3})([0-9]{3})\", gIDtofetch[i])[0]\n",
        "\tos.system('rsync --copy-links --recursive --times --verbose rsync://ftp.ncbi.nlm.nih.gov/genomes/all/{}/{}/{}/{}/ ../AllGenomes/'.format(arg[0], arg[1], arg[2], arg[3]))\n"
      ],
      "outputs": [],
      "execution_count": 89,
      "metadata": {
        "outputHidden": true
      }
    },
    {
      "cell_type": "markdown",
      "source": [
        "# Done \n",
        "- `sucking_genomeV2.py` works !!"
      ],
      "metadata": {
        "collapsed": false,
        "outputHidden": false,
        "inputHidden": false
      }
    },
    {
      "cell_type": "markdown",
      "source": [],
      "metadata": {}
    }
  ],
  "metadata": {
    "kernelspec": {
      "name": "python3",
      "language": "python",
      "display_name": "Python 3"
    },
    "kernel_info": {
      "name": "python3"
    },
    "language_info": {
      "mimetype": "text/x-python",
      "name": "python",
      "file_extension": ".py",
      "version": "3.5.2",
      "codemirror_mode": {
        "name": "ipython",
        "version": 3
      },
      "nbconvert_exporter": "python",
      "pygments_lexer": "ipython3"
    }
  },
  "nbformat": 4,
  "nbformat_minor": 4
}