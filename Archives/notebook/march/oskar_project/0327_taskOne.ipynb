{
  "cells": [
    {
      "cell_type": "markdown",
      "source": [
        "  # task_One\n",
        "  ## Analyzing output from infoTracker\n",
        "  _Date: 03/27/2017_"
      ],
      "metadata": {}
    },
    {
      "cell_type": "code",
      "source": [
        "import pandas as pd"
      ],
      "outputs": [],
      "execution_count": 2,
      "metadata": {
        "collapsed": false,
        "outputHidden": false,
        "inputHidden": false
      }
    },
    {
      "cell_type": "code",
      "source": [
        "df = pd.read_csv('/home/savy/Documents/2017_master_internship/infoTracker/prot_est_Infos.csv')"
      ],
      "outputs": [],
      "execution_count": 118,
      "metadata": {
        "collapsed": false,
        "outputHidden": false,
        "inputHidden": false
      }
    },
    {
      "cell_type": "code",
      "source": [
        "df.head()                                       "
      ],
      "outputs": [
        {
          "output_type": "execute_result",
          "execution_count": 119,
          "data": {
            "text/html": [
              "<div>\n",
              "<table border=\"1\" class=\"dataframe\">\n",
              "  <thead>\n",
              "    <tr style=\"text-align: right;\">\n",
              "      <th></th>\n",
              "      <th>Species name</th>\n",
              "      <th>Order name</th>\n",
              "      <th>Family name</th>\n",
              "      <th>#Protein</th>\n",
              "      <th>#EST</th>\n",
              "    </tr>\n",
              "  </thead>\n",
              "  <tbody>\n",
              "    <tr>\n",
              "      <th>0</th>\n",
              "      <td>Catajapyx aquilonaris</td>\n",
              "      <td>Diplura</td>\n",
              "      <td>Japygidae</td>\n",
              "      <td>NaN</td>\n",
              "      <td>0</td>\n",
              "    </tr>\n",
              "    <tr>\n",
              "      <th>1</th>\n",
              "      <td>Orchesella cincta</td>\n",
              "      <td>Collembola</td>\n",
              "      <td>Entomobryidae</td>\n",
              "      <td>NaN</td>\n",
              "      <td>1146</td>\n",
              "    </tr>\n",
              "    <tr>\n",
              "      <th>2</th>\n",
              "      <td>Zootermopsis nevadensis</td>\n",
              "      <td>Blattodea</td>\n",
              "      <td>Termopsidae</td>\n",
              "      <td>14610.0</td>\n",
              "      <td>1</td>\n",
              "    </tr>\n",
              "    <tr>\n",
              "      <th>3</th>\n",
              "      <td>Nasutitermes exitiosus</td>\n",
              "      <td>Blattodea</td>\n",
              "      <td>Termitidae</td>\n",
              "      <td>NaN</td>\n",
              "      <td>0</td>\n",
              "    </tr>\n",
              "    <tr>\n",
              "      <th>4</th>\n",
              "      <td>Blattella germanica</td>\n",
              "      <td>Blattodea</td>\n",
              "      <td>Ectobiidae</td>\n",
              "      <td>NaN</td>\n",
              "      <td>8351</td>\n",
              "    </tr>\n",
              "  </tbody>\n",
              "</table>\n",
              "</div>"
            ],
            "text/plain": [
              "              Species name  Order name    Family name  #Protein  #EST\n",
              "0    Catajapyx aquilonaris     Diplura      Japygidae       NaN     0\n",
              "1        Orchesella cincta  Collembola  Entomobryidae       NaN  1146\n",
              "2  Zootermopsis nevadensis   Blattodea    Termopsidae   14610.0     1\n",
              "3   Nasutitermes exitiosus   Blattodea     Termitidae       NaN     0\n",
              "4      Blattella germanica   Blattodea     Ectobiidae       NaN  8351"
            ]
          },
          "metadata": {}
        }
      ],
      "execution_count": 119,
      "metadata": {
        "collapsed": false,
        "outputHidden": false,
        "inputHidden": false
      }
    },
    {
      "cell_type": "code",
      "source": [
        "g = df.groupby(['Order name'])"
      ],
      "outputs": [],
      "execution_count": 121,
      "metadata": {
        "collapsed": false,
        "outputHidden": false,
        "inputHidden": false
      }
    },
    {
      "cell_type": "code",
      "source": [
        "g['Species name','#Protein','#EST'].max()         "
      ],
      "outputs": [
        {
          "output_type": "execute_result",
          "execution_count": 131,
          "data": {
            "text/html": [
              "<div>\n",
              "<table border=\"1\" class=\"dataframe\">\n",
              "  <thead>\n",
              "    <tr style=\"text-align: right;\">\n",
              "      <th></th>\n",
              "      <th>Species name</th>\n",
              "      <th>#Protein</th>\n",
              "      <th>#EST</th>\n",
              "    </tr>\n",
              "    <tr>\n",
              "      <th>Order name</th>\n",
              "      <th></th>\n",
              "      <th></th>\n",
              "      <th></th>\n",
              "    </tr>\n",
              "  </thead>\n",
              "  <tbody>\n",
              "    <tr>\n",
              "      <th>Blattodea</th>\n",
              "      <td>Zootermopsis nevadensis</td>\n",
              "      <td>14610.0</td>\n",
              "      <td>8351</td>\n",
              "    </tr>\n",
              "    <tr>\n",
              "      <th>Coleoptera</th>\n",
              "      <td>Tribolium castaneum</td>\n",
              "      <td>18534.0</td>\n",
              "      <td>185437</td>\n",
              "    </tr>\n",
              "    <tr>\n",
              "      <th>Collembola</th>\n",
              "      <td>Orchesella cincta</td>\n",
              "      <td>NaN</td>\n",
              "      <td>1146</td>\n",
              "    </tr>\n",
              "    <tr>\n",
              "      <th>Diplura</th>\n",
              "      <td>Catajapyx aquilonaris</td>\n",
              "      <td>NaN</td>\n",
              "      <td>0</td>\n",
              "    </tr>\n",
              "    <tr>\n",
              "      <th>Diptera</th>\n",
              "      <td>Zaprionus indianus</td>\n",
              "      <td>23304.0</td>\n",
              "      <td>847942</td>\n",
              "    </tr>\n",
              "    <tr>\n",
              "      <th>Ephemeroptera</th>\n",
              "      <td>Ephemera danica</td>\n",
              "      <td>NaN</td>\n",
              "      <td>0</td>\n",
              "    </tr>\n",
              "    <tr>\n",
              "      <th>Hemiptera</th>\n",
              "      <td>Trionymus perrisii</td>\n",
              "      <td>NaN</td>\n",
              "      <td>219173</td>\n",
              "    </tr>\n",
              "    <tr>\n",
              "      <th>Hymenoptera</th>\n",
              "      <td>Wasmannia auropunctata</td>\n",
              "      <td>18742.0</td>\n",
              "      <td>174597</td>\n",
              "    </tr>\n",
              "    <tr>\n",
              "      <th>Lepidoptera</th>\n",
              "      <td>Spodoptera frugiperda</td>\n",
              "      <td>16912.0</td>\n",
              "      <td>575578</td>\n",
              "    </tr>\n",
              "    <tr>\n",
              "      <th>Odonata</th>\n",
              "      <td>Ladona fulva</td>\n",
              "      <td>NaN</td>\n",
              "      <td>0</td>\n",
              "    </tr>\n",
              "    <tr>\n",
              "      <th>Orthoptera</th>\n",
              "      <td>Locusta migratoria</td>\n",
              "      <td>NaN</td>\n",
              "      <td>51188</td>\n",
              "    </tr>\n",
              "    <tr>\n",
              "      <th>Phasmatodea</th>\n",
              "      <td>Timema cristinae</td>\n",
              "      <td>NaN</td>\n",
              "      <td>0</td>\n",
              "    </tr>\n",
              "    <tr>\n",
              "      <th>Phthiraptera</th>\n",
              "      <td>Pediculus humanus corporis</td>\n",
              "      <td>10775.0</td>\n",
              "      <td>1188</td>\n",
              "    </tr>\n",
              "    <tr>\n",
              "      <th>Plecoptera</th>\n",
              "      <td>Isoperla grammatica</td>\n",
              "      <td>NaN</td>\n",
              "      <td>0</td>\n",
              "    </tr>\n",
              "    <tr>\n",
              "      <th>Strepsiptera</th>\n",
              "      <td>Mengenilla moldrzyki</td>\n",
              "      <td>NaN</td>\n",
              "      <td>0</td>\n",
              "    </tr>\n",
              "    <tr>\n",
              "      <th>Thysanoptera</th>\n",
              "      <td>Frankliniella occidentalis</td>\n",
              "      <td>NaN</td>\n",
              "      <td>13843</td>\n",
              "    </tr>\n",
              "    <tr>\n",
              "      <th>Trichoptera</th>\n",
              "      <td>Limnephilus lunatus</td>\n",
              "      <td>NaN</td>\n",
              "      <td>0</td>\n",
              "    </tr>\n",
              "  </tbody>\n",
              "</table>\n",
              "</div>"
            ],
            "text/plain": [
              "                             Species name  #Protein    #EST\n",
              "Order name                                                 \n",
              "Blattodea         Zootermopsis nevadensis   14610.0    8351\n",
              "Coleoptera            Tribolium castaneum   18534.0  185437\n",
              "Collembola              Orchesella cincta       NaN    1146\n",
              "Diplura             Catajapyx aquilonaris       NaN       0\n",
              "Diptera                Zaprionus indianus   23304.0  847942\n",
              "Ephemeroptera             Ephemera danica       NaN       0\n",
              "Hemiptera              Trionymus perrisii       NaN  219173\n",
              "Hymenoptera        Wasmannia auropunctata   18742.0  174597\n",
              "Lepidoptera         Spodoptera frugiperda   16912.0  575578\n",
              "Odonata                      Ladona fulva       NaN       0\n",
              "Orthoptera             Locusta migratoria       NaN   51188\n",
              "Phasmatodea              Timema cristinae       NaN       0\n",
              "Phthiraptera   Pediculus humanus corporis   10775.0    1188\n",
              "Plecoptera            Isoperla grammatica       NaN       0\n",
              "Strepsiptera         Mengenilla moldrzyki       NaN       0\n",
              "Thysanoptera   Frankliniella occidentalis       NaN   13843\n",
              "Trichoptera           Limnephilus lunatus       NaN       0"
            ]
          },
          "metadata": {}
        }
      ],
      "execution_count": 131,
      "metadata": {
        "collapsed": false,
        "outputHidden": false,
        "inputHidden": false
      }
    },
    {
      "cell_type": "markdown",
      "source": [
        "## Download fasta file from NCBI"
      ],
      "metadata": {}
    },
    {
      "cell_type": "code",
      "source": [
        "from Bio import Entrez\n",
        "Entrez.email = 'savandara.besse@gmail.com'"
      ],
      "outputs": [],
      "execution_count": 133,
      "metadata": {}
    },
    {
      "cell_type": "code",
      "source": [
        "handle = Entrez.esearch(db=\"nucest\", term='drosophila melanogaster')\n",
        "record = Entrez.read(handle)['IdList']\n",
        "handle.close()\n",
        "record"
      ],
      "outputs": [
        {
          "output_type": "execute_result",
          "execution_count": 145,
          "data": {
            "text/plain": [
              "['527482192', '392859066', '345421511', '342206684', '315905243', '315844150', '315823897', '315823706', '315820860', '315809918', '315803644', '315802413', '315798677', '311205018', '311147959', '302181891', '297251322', '297251281', '297251268', '297251209']"
            ]
          },
          "metadata": {}
        }
      ],
      "execution_count": 145,
      "metadata": {}
    },
    {
      "cell_type": "code",
      "source": [
        "import os\n",
        "from Bio import SeqIO\n",
        "from Bio import Entrez\n",
        "net_handle = Entrez.efetch(db=\"nucest\", id='527482192', rettype=\"fasta\", retmode=\"text\")\n",
        "out_handle = open('test.fna', \"w\")\n",
        "out_handle.write(net_handle.read())\n",
        "out_handle.close()\n",
        "net_handle.close()\n",
        "print(\"Saved\")"
      ],
      "outputs": [
        {
          "output_type": "stream",
          "name": "stdout",
          "text": [
            "Saved\n"
          ]
        }
      ],
      "execution_count": 151,
      "metadata": {}
    },
    {
      "cell_type": "code",
      "source": [
        "print(\"Parsing...\")\n",
        "record = SeqIO.read('test.fna', \"fasta\")\n",
        "print(record)"
      ],
      "outputs": [
        {
          "output_type": "stream",
          "name": "stdout",
          "text": [
            "Parsing...\n",
            "ID: JZ478789.1\n",
            "Name: JZ478789.1\n",
            "Description: JZ478789.1 01RQ1.12 WSSP Duckweed cDNA library Landoltia punctata cDNA clone 01RQ1.12 5' similar to protein translocation protein, mRNA sequence\n",
            "Number of features: 0\n",
            "Seq('AGAGAGATCGTAGAGGGATTCGGTCAAGAGTACGTTCCCCAGAGGGTTCTACCG...GCA', SingleLetterAlphabet())\n"
          ]
        }
      ],
      "execution_count": 152,
      "metadata": {}
    },
    {
      "cell_type": "code",
      "source": [
        "search_handle = Entrez.esearch(db=\"nucest\",term=\"drosophila melanogaster\", usehistory=\"y\")\n",
        "search_results = Entrez.read(search_handle)\n",
        "search_handle.close()"
      ],
      "outputs": [],
      "execution_count": 168,
      "metadata": {
        "collapsed": false,
        "outputHidden": false,
        "inputHidden": false
      }
    },
    {
      "cell_type": "code",
      "source": [
        "search_results"
      ],
      "outputs": [
        {
          "output_type": "execute_result",
          "execution_count": 169,
          "data": {
            "text/plain": [
              "{'QueryKey': '1', 'TranslationSet': [{'To': '\"Collembola\"[Organism] OR \"Collembola\"[Organism] OR collembola[All Fields]', 'From': 'collembola'}], 'IdList': ['429477244', '429477243', '289812815', '284004874', '284004873', '284004872', '284004871', '284004870', '284004869', '284004868', '284004867', '284004866', '284004865', '284004864', '284004863', '284004862', '284004861', '284004860', '284004859', '284004858'], 'WebEnv': 'NCID_1_176873589_130.14.22.215_9001_1490652757_2105856053_0MetA0_S_MegaStore_F_1', 'Count': '34031', 'QueryTranslation': '\"Collembola\"[Organism] OR \"Collembola\"[Organism] OR collembola[All Fields]', 'RetStart': '0', 'TranslationStack': [{'Count': '34031', 'Explode': 'Y', 'Field': 'Organism', 'Term': '\"Collembola\"[Organism]'}, {'Count': '34031', 'Explode': 'Y', 'Field': 'Organism', 'Term': '\"Collembola\"[Organism]'}, 'OR', {'Count': '16', 'Explode': 'N', 'Field': 'All Fields', 'Term': 'collembola[All Fields]'}, 'OR', 'GROUP'], 'RetMax': '20'}"
            ]
          },
          "metadata": {}
        }
      ],
      "execution_count": 169,
      "metadata": {
        "collapsed": false,
        "outputHidden": false,
        "inputHidden": false
      }
    },
    {
      "cell_type": "code",
      "source": [
        "webenv = search_results[\"WebEnv\"]\n",
        "query_key = search_results[\"QueryKey\"]\n",
        "gi_list = search_results[\"IdList\"]\n",
        "count = int(20)"
      ],
      "outputs": [],
      "execution_count": 173,
      "metadata": {
        "collapsed": false,
        "outputHidden": false,
        "inputHidden": false
      }
    },
    {
      "cell_type": "code",
      "source": [
        "try:\n",
        "    from urllib.error import HTTPError  # for Python 3\n",
        "except ImportError:\n",
        "    from urllib2 import HTTPError  # for Python 2"
      ],
      "outputs": [],
      "execution_count": 174,
      "metadata": {
        "collapsed": false,
        "outputHidden": false,
        "inputHidden": false
      }
    },
    {
      "cell_type": "code",
      "source": [
        "batch_size = 1\n",
        "out_handle = open(\"orchid_rpl16.fasta\", \"w\")\n",
        "for start in range(0, count, batch_size):\n",
        "    end = min(count, start+batch_size)\n",
        "    print(\"Going to download record %i to %i\" % (start+1, end))\n",
        "    attempt = 0\n",
        "    while attempt < 3:\n",
        "        attempt += 1\n",
        "        try:\n",
        "            fetch_handle = Entrez.efetch(db=\"nucest\",\n",
        "                                         rettype=\"fasta\", retmode=\"text\",\n",
        "                                         retstart=start, retmax=batch_size,\n",
        "                                         webenv=webenv, query_key=query_key)\n",
        "        except HTTPError as err:\n",
        "            if 500 <= err.code <= 599:\n",
        "                print(\"Received error from server %s\" % err)\n",
        "                print(\"Attempt %i of 3\" % attempt)\n",
        "                time.sleep(15)\n",
        "            else:\n",
        "                raise\n",
        "    data = fetch_handle.read()\n",
        "    fetch_handle.close()\n",
        "    out_handle.write(data)\n",
        "out_handle.close()"
      ],
      "outputs": [],
      "execution_count": 175,
      "metadata": {
        "collapsed": false,
        "outputHidden": false,
        "inputHidden": false
      }
    },
    {
      "cell_type": "code",
      "source": [],
      "outputs": [],
      "execution_count": null,
      "metadata": {
        "collapsed": false,
        "outputHidden": false,
        "inputHidden": false
      }
    }
  ],
  "metadata": {
    "kernelspec": {
      "name": "python3",
      "language": "python",
      "display_name": "Python 3"
    },
    "kernel_info": {
      "name": "python3"
    },
    "language_info": {
      "version": "3.5.2",
      "mimetype": "text/x-python",
      "codemirror_mode": {
        "version": 3,
        "name": "ipython"
      },
      "pygments_lexer": "ipython3",
      "nbconvert_exporter": "python",
      "name": "python",
      "file_extension": ".py"
    }
  },
  "nbformat": 4,
  "nbformat_minor": 4
}