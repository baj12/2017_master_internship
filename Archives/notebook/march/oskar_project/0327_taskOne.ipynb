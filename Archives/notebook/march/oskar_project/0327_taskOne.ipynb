{
  "cells": [
    {
      "cell_type": "markdown",
      "source": [
        "  # task_One\n",
        "  ## Analyzing output from infoTracker\n",
        "  _Date: 03/27/2017_"
      ],
      "metadata": {}
    },
    {
      "cell_type": "code",
      "source": [
        "import pandas as pd"
      ],
      "outputs": [],
      "execution_count": 6,
      "metadata": {
        "collapsed": false,
        "outputHidden": false,
        "inputHidden": false
      }
    },
    {
      "cell_type": "code",
      "source": [
        "df = pd.read_csv('/home/savy/Documents/2017_master_internship/infoTracker/prot_est_Infos.csv')"
      ],
      "outputs": [],
      "execution_count": 8,
      "metadata": {
        "collapsed": false,
        "outputHidden": false,
        "inputHidden": false
      }
    },
    {
      "cell_type": "code",
      "source": [
        "df.head()                                       "
      ],
      "outputs": [
        {
          "output_type": "execute_result",
          "execution_count": 13,
          "data": {
            "text/plain": [
              "              Species name  Order name    Family name  #Protein  #EST\n",
              "0    Catajapyx aquilonaris     Diplura      Japygidae       NaN     0\n",
              "1        Orchesella cincta  Collembola  Entomobryidae       NaN  1146\n",
              "2  Zootermopsis nevadensis   Blattodea    Termopsidae   14610.0     1\n",
              "3   Nasutitermes exitiosus   Blattodea     Termitidae       NaN     0\n",
              "4      Blattella germanica   Blattodea     Ectobiidae       NaN  8351"
            ],
            "text/html": [
              "<div>\n",
              "<table border=\"1\" class=\"dataframe\">\n",
              "  <thead>\n",
              "    <tr style=\"text-align: right;\">\n",
              "      <th></th>\n",
              "      <th>Species name</th>\n",
              "      <th>Order name</th>\n",
              "      <th>Family name</th>\n",
              "      <th>#Protein</th>\n",
              "      <th>#EST</th>\n",
              "    </tr>\n",
              "  </thead>\n",
              "  <tbody>\n",
              "    <tr>\n",
              "      <th>0</th>\n",
              "      <td>Catajapyx aquilonaris</td>\n",
              "      <td>Diplura</td>\n",
              "      <td>Japygidae</td>\n",
              "      <td>NaN</td>\n",
              "      <td>0</td>\n",
              "    </tr>\n",
              "    <tr>\n",
              "      <th>1</th>\n",
              "      <td>Orchesella cincta</td>\n",
              "      <td>Collembola</td>\n",
              "      <td>Entomobryidae</td>\n",
              "      <td>NaN</td>\n",
              "      <td>1146</td>\n",
              "    </tr>\n",
              "    <tr>\n",
              "      <th>2</th>\n",
              "      <td>Zootermopsis nevadensis</td>\n",
              "      <td>Blattodea</td>\n",
              "      <td>Termopsidae</td>\n",
              "      <td>14610.0</td>\n",
              "      <td>1</td>\n",
              "    </tr>\n",
              "    <tr>\n",
              "      <th>3</th>\n",
              "      <td>Nasutitermes exitiosus</td>\n",
              "      <td>Blattodea</td>\n",
              "      <td>Termitidae</td>\n",
              "      <td>NaN</td>\n",
              "      <td>0</td>\n",
              "    </tr>\n",
              "    <tr>\n",
              "      <th>4</th>\n",
              "      <td>Blattella germanica</td>\n",
              "      <td>Blattodea</td>\n",
              "      <td>Ectobiidae</td>\n",
              "      <td>NaN</td>\n",
              "      <td>8351</td>\n",
              "    </tr>\n",
              "  </tbody>\n",
              "</table>\n",
              "</div>"
            ]
          },
          "metadata": {}
        }
      ],
      "execution_count": 13,
      "metadata": {
        "collapsed": false,
        "outputHidden": false,
        "inputHidden": false
      }
    },
    {
      "cell_type": "code",
      "source": [
        "g = df.groupby(['Order name'])"
      ],
      "outputs": [],
      "execution_count": 45,
      "metadata": {
        "collapsed": false,
        "outputHidden": false,
        "inputHidden": false
      }
    },
    {
      "cell_type": "code",
      "source": [
        "g['#EST'].max()"
      ],
      "outputs": [
        {
          "output_type": "execute_result",
          "execution_count": 46,
          "data": {
            "text/plain": [
              "Order name\n",
              "Blattodea          8351\n",
              "Coleoptera       185437\n",
              "Collembola         1146\n",
              "Diplura               0\n",
              "Diptera          847942\n",
              "Ephemeroptera         0\n",
              "Hemiptera        219173\n",
              "Hymenoptera      174597\n",
              "Lepidoptera      575578\n",
              "Odonata               0\n",
              "Orthoptera        51188\n",
              "Phasmatodea           0\n",
              "Phthiraptera       1188\n",
              "Plecoptera            0\n",
              "Strepsiptera          0\n",
              "Thysanoptera      13843\n",
              "Trichoptera           0\n",
              "Name: #EST, dtype: int64"
            ]
          },
          "metadata": {}
        }
      ],
      "execution_count": 46,
      "metadata": {
        "collapsed": false,
        "outputHidden": false,
        "inputHidden": false
      }
    },
    {
      "cell_type": "code",
      "source": [],
      "outputs": [],
      "execution_count": 48,
      "metadata": {
        "collapsed": false,
        "outputHidden": false,
        "inputHidden": false
      }
    },
    {
      "cell_type": "markdown",
      "source": [
        "## Download fasta file from NCBI\n",
        "\n### Test 1"
      ],
      "metadata": {}
    },
    {
      "cell_type": "code",
      "source": [
        "from Bio import Entrez\n",
        "Entrez.email = 'savandara.besse@gmail.com'"
      ],
      "outputs": [],
      "execution_count": 2,
      "metadata": {}
    },
    {
      "cell_type": "code",
      "source": [
        "handle = Entrez.esearch(db=\"nucest\", term='drosophila melanogaster')\n",
        "record = Entrez.read(handle)['IdList']\n",
        "handle.close()\n",
        "record"
      ],
      "outputs": [
        {
          "output_type": "execute_result",
          "execution_count": 3,
          "data": {
            "text/plain": [
              "['527482192', '392859066', '345421511', '342206684', '315905243', '315844150', '315823897', '315823706', '315820860', '315809918', '315803644', '315802413', '315798677', '311205018', '311147959', '302181891', '297251322', '297251281', '297251268', '297251209']"
            ]
          },
          "metadata": {}
        }
      ],
      "execution_count": 3,
      "metadata": {}
    },
    {
      "cell_type": "code",
      "source": [
        "print(\"Parsing...\")\n",
        "record = SeqIO.read('test.fna', \"fasta\")\n",
        "print(record)"
      ],
      "outputs": [
        {
          "output_type": "stream",
          "name": "stdout",
          "text": [
            "Parsing...\n",
            "ID: JZ478789.1\n",
            "Name: JZ478789.1\n",
            "Description: JZ478789.1 01RQ1.12 WSSP Duckweed cDNA library Landoltia punctata cDNA clone 01RQ1.12 5' similar to protein translocation protein, mRNA sequence\n",
            "Number of features: 0\n",
            "Seq('AGAGAGATCGTAGAGGGATTCGGTCAAGAGTACGTTCCCCAGAGGGTTCTACCG...GCA', SingleLetterAlphabet())\n"
          ]
        }
      ],
      "execution_count": 5,
      "metadata": {}
    }
  ],
  "metadata": {
    "kernelspec": {
      "name": "python3",
      "language": "python",
      "display_name": "Python 3"
    },
    "kernel_info": {
      "name": "python3"
    },
    "language_info": {
      "nbconvert_exporter": "python",
      "pygments_lexer": "ipython3",
      "name": "python",
      "mimetype": "text/x-python",
      "codemirror_mode": {
        "name": "ipython",
        "version": 3
      },
      "file_extension": ".py",
      "version": "3.5.2"
    }
  },
  "nbformat": 4,
  "nbformat_minor": 4
}