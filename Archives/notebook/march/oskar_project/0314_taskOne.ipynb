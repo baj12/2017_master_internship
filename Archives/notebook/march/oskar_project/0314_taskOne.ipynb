{
  "cells": [
    {
      "cell_type": "markdown",
      "source": [
        "# task_One \n",
        "## Testing EMV_Augustus pipeline\n",
        "_Date: 03/14/2015_\n",
        "\n",
        "## GeneMark Commands\n",
        "_Building HMM and gene predictions using the programm gmes_petap_\n",
        "\n",
        "`perl gmes_petap.pl --ES --cores 2 --sequence sequence.fasta `\n",
        "\n",
        "_Generating only gene predictions for organisms using the program gmhmme3_\n",
        "\n",
        "`gmhmme3 -f gff3 -o predictions.gff3 -m Moryzae.mod ~/contig.fasta`\n",
        "\n",
        "### Options :\n",
        "*-f FORMAT* : Use FORMAT as the output format. \"gff3\" and \"gtf\" are accepted, as well as the default \"lst\". The last of these three formats is specific to GeneMark \n",
        "\n",
        "*-n* : Include gene nucleotide sequences in FASTA format. Only works with the \"lst\" format.\n",
        "\n",
        "*-p* : Include gene protein sequences in FASTA format. Only works with the \"lst\" format.\n",
        "\n",
        "*-o* FILENAME : Write the output to the specified file. The default depends on the combination of options used (hmm_model).\n",
        "\n",
        "*-m* FILENAME : The name of the parameter file. This option is required.\n",
        "\n",
        "<center>$\\rightarrow$ Output : <b>gtf file</b></center>\n",
        "\n",
        "## Have to convert gft into gff3\n",
        "\n`perl /home/savandara/bin/gtf2gff3/gtf2gff3.pl gene_prediction.gtf > gene_prediction.gff3`"
      ],
      "metadata": {}
    },
    {
      "cell_type": "markdown",
      "source": [
        "_Date: 03/15/2016_\n",
        "## Exonerate Command\n",
        "\n",
        "`exonerate --showtargetgff yes --showalignment no --verbose 0 --showvulgar no --model protein2genome --percent 50 --ryo \"AveragePercentIdentity: %pi\\n\" -t genome_sequence.fasta -q uniprot_reviewed_allProteins.fasta > protein_alignments.gff`\n",
        "\n",
        "### Options : \n",
        "*--showtargetgff yes*:  a GFF dump in the output\n",
        "\n",
        "*--showalignment no*: Disable showing a human-readable alignment \n",
        "\n",
        "*--showvulgar no* : disable this line in the output\n",
        "\n",
        "--model protein2genome : allows alignment of a protein sequence to genomic DNA. \n",
        "\n",
        "--percent 50 : Report only alignments scoring at least this percentage of the maximal score for each query\n",
        "\n",
        "<center>$\\rightarrow$ Output : <b>gff file</b>(but not clean)</center>\n",
        "\n",
        "## Have to convert gff into gff3\n",
        "`perl exonerate_gff_to_alignment_gff3.pl exonerate.output > protein_alignments.gff3`"
      ],
      "metadata": {}
    },
    {
      "cell_type": "markdown",
      "source": [
        "_Date: 03/16/2016_\n",
        "\n",
        "### Part 1 : Creating the inputs for EMV\n",
        "- Using __GeneMArk-ES__ to have Ab initio gene predition\n",
        "    - Input: __DNA sequence (FASTA file)__\n",
        "    - Command line : ```perl /home/savandara/bin/gmes_petap/gmes_petap.pl --ES --cores 2 --sequence genome_sequence.fasta```\n",
        "    - Output : __GeneMark\\_hmm.mod__ (used in gmhmm3) + __genemark\\_prediction.gft__\n",
        "    - $\\rightarrow$ Has to be converted in GFF3 file\n",
        "- Using __Exonerate__ to have protein alignments\n",
        "    - Input: __Protein sequence (FASTA file)__ + __AllProtein sequence (FASTA file)__\n",
        "    - Command line : `exonerate --showtargetgff yes --verbose 0 --showalignment no - showvulgar no --model protein2genome --percent 50 -q uniprot_reviewed_allProteins.fasta -t genome_sequence.fasta > protein_alignments.gff`\n",
        "    - $\\rightarrow$ Has to be converted in GFF3 file \n",
        "- Creating the CSV file with the __weight values__\n"
      ],
      "metadata": {
        "collapsed": false,
        "outputHidden": false,
        "inputHidden": false
      }
    },
    {
      "cell_type": "markdown",
      "source": [],
      "metadata": {}
    },
    {
      "cell_type": "markdown",
      "source": [],
      "metadata": {}
    },
    {
      "cell_type": "markdown",
      "source": [],
      "metadata": {}
    }
  ],
  "metadata": {
    "kernelspec": {
      "name": "python3",
      "language": "python",
      "display_name": "Python 3"
    },
    "kernel_info": {
      "name": "python3"
    },
    "language_info": {
      "mimetype": "text/x-python",
      "pygments_lexer": "ipython3",
      "nbconvert_exporter": "python",
      "file_extension": ".py",
      "codemirror_mode": {
        "name": "ipython",
        "version": 3
      },
      "name": "python",
      "version": "3.5.2"
    }
  },
  "nbformat": 4,
  "nbformat_minor": 4
}