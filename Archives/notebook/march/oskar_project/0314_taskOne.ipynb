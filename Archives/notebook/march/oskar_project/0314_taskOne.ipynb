{
  "cells": [
    {
      "cell_type": "markdown",
      "source": [
        "# task_One \n",
        "## Testing EMV_Augustus pipeline\n",
        "_Date: 03/14/2016_\n",
        "\n",
        "### Part 1 : Creating the inputs for EMV\n",
        "- Using __GeneMArk-ES__ to have Ab initio gene predition\n",
        "    - Input: __DNA sequence (FASTA file)__\n",
        "    - Command line: ```perl /home/savandara/bin/gmes_petap/gmes_petap.pl --ES --cores 2 --sequence ../Archives/GCF_000001215.4_Release_6_plus_ISO1_MT_genomic.fna```\n",
        "    - Time execution: 3 Hours _expected_\n",
        "    - Output : __GeneMark\\_hmm.mod__ (used in gmhmm3) + __genemark\\_prediction.gft__\n",
        "- Using __Exonerate__ to have protein alignments\n",
        "    - Input: __Protein sequence (FASTA file)__ + __AllProtein sequence (FASTA file)__\n",
        "    - Command line: ``````\n",
        "- Creating the CSV file with the __weight values__\n"
      ],
      "metadata": {
        "collapsed": false,
        "outputHidden": false,
        "inputHidden": false
      }
    }
  ],
  "metadata": {
    "kernelspec": {
      "name": "python3",
      "language": "python",
      "display_name": "Python 3"
    },
    "kernel_info": {
      "name": "python3"
    },
    "language_info": {
      "pygments_lexer": "ipython3",
      "mimetype": "text/x-python",
      "version": "3.5.2",
      "nbconvert_exporter": "python",
      "name": "python",
      "file_extension": ".py",
      "codemirror_mode": {
        "name": "ipython",
        "version": 3
      }
    }
  },
  "nbformat": 4,
  "nbformat_minor": 4
}