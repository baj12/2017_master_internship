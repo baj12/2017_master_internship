{
  "cells": [
    {
      "cell_type": "markdown",
      "source": [
        "# task_One \n",
        "## Testing EMV_Augustus pipeline\n",
        "_Date: 03/14/2015_\n",
        "\n",
        "## GeneMark Commands\n",
        "_Building HMM and gene predictions using the programm gmes_petap_\n",
        "\n",
        "`perl gmes_petap.pl --ES --cores 2 --sequence sequence.fasta `\n",
        "\n",
        "_Generating only gene predictions for organisms using the program gmhmme3_\n",
        "\n",
        "`gmhmme3 -f gff3 -o predictions.gff3 -m Moryzae.mod ~/contig.fasta`\n",
        "\n",
        "### Options :\n",
        "*-f FORMAT* : Use FORMAT as the output format. \"gff3\" and \"gtf\" are accepted, as well as the default \"lst\". The last of these three formats is specific to GeneMark \n",
        "\n",
        "*-n* : Include gene nucleotide sequences in FASTA format. Only works with the \"lst\" format.\n",
        "\n",
        "*-p* : Include gene protein sequences in FASTA format. Only works with the \"lst\" format.\n",
        "\n",
        "*-o* FILENAME : Write the output to the specified file. The default depends on the combination of options used (hmm_model).\n",
        "\n",
        "*-m* FILENAME : The name of the parameter file. This option is required.\n",
        "\n",
        "<center>$\\rightarrow$ Output : <b>gtf file</b></center>\n",
        "\n",
        "## Have to convert gft into gff3\n",
        "\n`perl /home/savandara/bin/gtf2gff3/gtf2gff3.pl gene_prediction.gtf > gene_prediction.gff3`"
      ],
      "metadata": {}
    },
    {
      "cell_type": "markdown",
      "source": [
        "_Date: 03/15/2016_\n",
        "## Exonerate Command\n",
        "\n",
        "`exonerate --showtargetgff yes --showalignment no --verbose 0 --showvulgar no -n 1 --model protein2genome --percent 50 --ryo \"AveragePercentIdentity: %pi\\n\" -t genome_sequence.fasta -q uniprot_reviewed_allProteins.fasta > protein_alignments.gff`\n",
        "\n",
        "### Options : \n",
        "*--showtargetgff yes*:  a GFF dump in the output\n",
        "\n",
        "*--showalignment no*: Disable showing a human-readable alignment \n",
        "\n",
        "*-n 1*: Report the best N results for each query. The option reduces the amount of output generated, and also allows exonerate to speed up the search.",
        "\n",
        "*--showvulgar no* : disable this line in the output\n",
        "\n",
        "--model protein2genome : allows alignment of a protein sequence to genomic DNA. \n",
        "\n",
        "--percent 50 : Report only alignments scoring at least this percentage of the maximal score for each query\n",
        "\n",
        "<center>$\\rightarrow$ Output : <b>gff file</b>(but not clean)</center>\n",
        "\n",
        "## Have to convert gff into gff3\n",
        "`perl exonerate_gff_to_alignment_gff3.pl exonerate.output > protein_alignments.gff3`"
      ],
      "metadata": {}
    },
    {
      "cell_type": "markdown",
      "source": [
        "_Date: 03/16/2016_\n",
        "\n",
        "### Part 1 : Creating the inputs for EMV\n",
        "- Using __GeneMArk-ES__ to have Ab initio gene predition\n",
        "    - Input: __DNA sequence (FASTA file)__\n",
        "    - Command line : ```perl /home/savandara/bin/gmes_petap/gmes_petap.pl --ES --cores 2 --sequence genome_sequence.fasta```\n",
        "    - Output : __GeneMark\\_hmm.mod__ (used in gmhmm3) + __genemark\\_prediction.gft__\n",
        "    - $\\rightarrow$ Has to be converted in GFF3 file\n",
        "- Using __Exonerate__ to have protein alignments\n",
        "    - Input: __Protein sequence (FASTA file)__ + __AllProtein sequence (FASTA file)__\n",
        "    - Command line : `exonerate --showtargetgff yes --verbose 0 --showalignment no - showvulgar no --model protein2genome --percent 50 -q uniprot_reviewed_allProteins.fasta -t genome_sequence.fasta > protein_alignments.gff`\n",
        "    - $\\rightarrow$ Has to be converted in GFF3 file \n",
        "- Creating the CSV file with the __weight values__\n"
      ],
      "metadata": {
        "collapsed": false,
        "outputHidden": false,
        "inputHidden": false
      }
    },
    {
      "cell_type": "markdown",
      "source": [
        "_Date: 03/17/2017_\n",
        "\n",
        "## Part 2 : Prepare set of training and test files with EVM\n",
        "\n",
        "1. Partitioning the Inputs\n",
        "    * `perl partition_EVM_inputs.pl --genome genome.fasta \n",
        "     --gene_predictions gene_predictions.gff3 --protein_alignments protein_alignments.gff3\n",
        "     --segmentSize 100000 --overlapSize 10000 --partition_listing partitions_list.out`\n",
        "2. Generating the EVM Command Set\n",
        "    * `perl write_EVM_commands.pl --genome genome.fasta --weights 'pwd'/weights.txt --gene_predictions gene_predictions.gff3 --protein_alignments protein_alignments.gff3 --output_file_name evm.out  --partitions partitions_list.out >  commands.list`\n",
        "3. Run the commands (locally)\n",
        "    * `perl execute_EVM_commands.pl commands.list | tee run.log`\n",
        "4. Combining the partitions\n",
        "    * `perl recombine_EVM_partial_outputs.pl --partitions partitions_list.out --output_file_name evm.out`\n",
        "5. Converting in GFF3 file\n",
        "    * `perl convert_EVM_outputs_to_GFF3.pl  --partitions partitions_list.out --output evm.out  --genome genome.fasta` (for each evm.out file)\n",
        "    * `find . -regex \".*evm.out.gff3\" -exec cat {} \\; > EVM.all.gff3`"
      ],
      "metadata": {}
    },
    {
      "cell_type": "markdown",
      "source": [
        "## Part 3 : Training Augustus\n",
        "\n",
        "1. Obtain a set of training and test files\n",
        "    * Come from EMV output or already existed in NCBI\n",
        "    * Split the file with `random_split.pl` $\\rightarrow$ and `bug.gb.test` `bug.gb.train`\n",
        "2. Create meta parameters file for your species\n",
        "    * Command line : `new_species.pl --species=bug`\n",
        "3. Initial training\n",
        "    * `etraining --species=bug gene.gb.train`\n",
        "    * `augustus --speices=bug gene.gb.test`\n",
        "4. Retraining Augustus\n",
        "    * `etraining --species=bug gene.gb.train`\n",
        "    * `augustus --speices=bug gene.gb.test`\n",
        "\n",
        "$\\Rightarrow$ Will obtain the accuracy of the prediction (shoul be up to 20% if it is a good model)\n"
      ],
      "metadata": {}
    },
    {
      "cell_type": "markdown",
      "source": [
        "## Part 4 : Gene prediction with Augustus\n",
        "\n",
        "1. Gene prediction step\n",
        "    * `augustus --species=bug genome.fasta > final_gene_prediction.gff`\n",
        "2. Obtain the protein sequences\n",
        "    * `getAnnoFasta.pl final_gene_prediction.gff`\n",
        "    "
      ],
      "metadata": {}
    },
    {
      "cell_type": "markdown",
      "source": [],
      "metadata": {}
    }
  ],
  "metadata": {
    "kernelspec": {
      "name": "python3",
      "language": "python",
      "display_name": "Python 3"
    },
    "kernel_info": {
      "name": "python3"
    },
    "language_info": {
      "pygments_lexer": "ipython3",
      "file_extension": ".py",
      "codemirror_mode": {
        "name": "ipython",
        "version": 3
      },
      "nbconvert_exporter": "python",
      "name": "python",
      "version": "3.5.2",
      "mimetype": "text/x-python"
    }
  },
  "nbformat": 4,
  "nbformat_minor": 4
}
