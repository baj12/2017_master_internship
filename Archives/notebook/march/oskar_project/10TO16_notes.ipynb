{
  "cells": [
    {
      "cell_type": "markdown",
      "source": [
        "# Friday, March 10th\n",
        "\n",
        "## To do\n",
        "- Prepare Cassandra Lab Meeting\n",
        "    - Understand how works our pipeline\n",
        "    \n",
        "## Done\n",
        "Meeting success!\n",
        "\n",
        "### _For the week-end_\n",
        "1. Find all the inputs needed for our pipeline (have to be tested in the morning)\n",
        "1. Write a script to count orders and families \n",
        "1. Look at Leo code "
      ],
      "metadata": {}
    },
    {
      "cell_type": "markdown",
      "source": [
        "# Monday, March 13th\n",
        "\n",
        "## Done\n",
        "- [x] Counted the number of orders and of families per order\n",
        "- [x] Proposed some organisms for the HMM model part\n",
        "\n",
        "## To do\n",
        "- Try to count orders and families with Pandas $\\rightarrow$ Done\n",
        "- Understand the pipeline $\\rightarrow$ Done "
      ],
      "metadata": {}
    },
    {
      "cell_type": "markdown",
      "source": [
        "# Tuesday, March 14th\n",
        "\n",
        "## Done\n",
        "- [x] Succeeded to test GeneMark\n",
        "- [x] Began modifications on `sucking_genomes.py`\n",
        "\n",
        "## To do\n",
        "- Try to understand Exonerate\n",
        "- Still continue modifications on `sucking_genomes.py`"
      ],
      "metadata": {}
    },
    {
      "cell_type": "markdown",
      "source": [
        "# Wednesday, March 15th\n",
        "\n",
        "## Done\n",
        "- [x] Success to modify sucking\\_genome.py\n",
        "- [x] Have gff3 for gene prediction\n",
        "- [x]Have weight values file\n",
        "\n",
        "## In progress\n",
        "- Testing Exonerate\n",
        "\n",
        "## To do\n",
        "- Test EVM\n"
      ],
      "metadata": {
        "collapsed": false,
        "outputHidden": false,
        "inputHidden": false
      }
    },
    {
      "cell_type": "markdown",
      "source": [
        "# Thursday, March 16th\n",
        "\n",
        "## Done\n",
        "- [x] Discover how works the output of Exonerate\n",
        "- [x] Python parser for cleaning Exonerate done\n",
        "\n",
        "## In progress\n",
        "- Exonerate still running\n",
        "\n",
        "## To do after \n",
        "- Choose a model of each order (for determinating if we have to use EVM for all the orders)\n",
        "- Finally testing EVM !!!!\n"
      ],
      "metadata": {}
    },
    {
      "cell_type": "markdown",
      "source": [],
      "metadata": {}
    }
  ],
  "metadata": {
    "kernelspec": {
      "name": "python3",
      "language": "python",
      "display_name": "Python 3"
    },
    "kernel_info": {
      "name": "python3"
    },
    "language_info": {
      "version": "3.5.2",
      "codemirror_mode": {
        "version": 3,
        "name": "ipython"
      },
      "pygments_lexer": "ipython3",
      "file_extension": ".py",
      "name": "python",
      "nbconvert_exporter": "python",
      "mimetype": "text/x-python"
    }
  },
  "nbformat": 4,
  "nbformat_minor": 4
}