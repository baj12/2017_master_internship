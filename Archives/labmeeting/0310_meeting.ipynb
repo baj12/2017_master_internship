{
  "cells": [
    {
      "cell_type": "markdown",
      "source": [
        "# Cassandra Lab Meeting\n",
        "_Date : 03/10/2017_\n",
        "\n",
        "## Task 01 : \n",
        "- Showing the phylogenetic distribution of Oskar in insect orders\n",
        "- We also want to see if the evolution of oskar is in the same thant the evolution of insect orders\n",
        "\n\n",
        "### Sub-task 01: Update our data\n",
        "__From Tamsin work: We have 181 genomes__\n",
        "\n",
        "With our script (based on Genomes data from NCBI), we have found __247 genomes__ \n",
        "\n",
        "$\\rightarrow$ Result : Stock on a CSV file wirh species name/id, order name/id, family name/id, number acession\n",
        "\n",
        "_NB: If the Genome data in NCBI database, the script still works for updating_\n",
        "\n\n",
        "### Sub-task 02: Creating EVM / Augustus pipeline\n",
        "\n",
        "#### EVM\n",
        "Build a genome consensus sequence with\n",
        "- a genome sequence (Fasta file)\n",
        "- gene prediction (GFF3 file)\n",
        "- protein / transcript alignments (GFF3 file)\n",
        "- a weight values to be applied to each type of evidence\n",
        "\n",
        "#### Augustus\n",
        "- Create an hidden markov model for a given sequence (here our gene consensus sequence)\n",
        "- Predict all gene for a specific species beased on the HMM model \n",
        "\n\n",
        "### Sub-task 03 : Transcriptomes\n",
        "Leo have done the work\n",
        "- Have to be curated\n",
        "- Maybe do a better analysis\n",
        "\n",
        "## TO DO\n",
        "$\\Rightarrow$ Test the pipeline on one genome\n",
        "\n",
        "## Questions\n",
        "About HMM model for each order\n",
        "- Choose one organism randomly?\n",
        "- Choose 4/5 organisms per order to build a meta HMM? (maybe use a representative organism for each family per order)\n"
      ],
      "metadata": {}
    },
    {
      "cell_type": "code",
      "source": [],
      "outputs": [],
      "execution_count": null,
      "metadata": {
        "collapsed": false,
        "outputHidden": false,
        "inputHidden": false
      }
    }
  ],
  "metadata": {
    "kernelspec": {
      "name": "python3",
      "language": "python",
      "display_name": "Python 3"
    },
    "kernel_info": {
      "name": "python3"
    },
    "language_info": {
      "nbconvert_exporter": "python",
      "pygments_lexer": "ipython3",
      "version": "3.5.2",
      "mimetype": "text/x-python",
      "codemirror_mode": {
        "version": 3,
        "name": "ipython"
      },
      "file_extension": ".py",
      "name": "python"
    }
  },
  "nbformat": 4,
  "nbformat_minor": 4
}