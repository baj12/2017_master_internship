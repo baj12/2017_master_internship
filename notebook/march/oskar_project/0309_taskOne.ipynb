{
  "cells": [
    {
      "cell_type": "markdown",
      "source": [
        "# task_One (EMV_Augustus pipeline)\n",
        "_Date : 03/09/2017_\n",
        "\n",
        "## Goals for task_One\n",
        "1. Update Leo pipeline Gene\\_Prediction\\_Genome\\_DB by used __Evidence Base Modeler__ for finding ORF\n",
        "\n",
        "### Final Goal \n",
        "__Show the phylogenetic distribution of oskar in all insect orders__\n",
        "> - Could be very similar to this figure, which contains information about (1) how many species’ genomes/transcriptomes were searched in each insect Order, and (2) whether oskar was found for each species.\n",
        "> - Could simplify, and indicate whether oskar was found at least once in that order – ie, instead of having many data points per order, have only one Y/N point per order.\n",
        "\n\n## Done"
      ],
      "metadata": {}
    },
    {
      "cell_type": "code",
      "source": [],
      "outputs": [],
      "execution_count": null,
      "metadata": {
        "collapsed": false,
        "outputHidden": false,
        "inputHidden": false
      }
    }
  ],
  "metadata": {
    "kernelspec": {
      "name": "python3",
      "language": "python",
      "display_name": "Python 3"
    },
    "kernel_info": {
      "name": "python3"
    },
    "language_info": {
      "name": "python",
      "codemirror_mode": {
        "name": "ipython",
        "version": 3
      },
      "pygments_lexer": "ipython3",
      "version": "3.5.2",
      "mimetype": "text/x-python",
      "file_extension": ".py",
      "nbconvert_exporter": "python"
    }
  },
  "nbformat": 4,
  "nbformat_minor": 4
}