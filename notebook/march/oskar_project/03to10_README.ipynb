{
  "cells": [
    {
      "cell_type": "markdown",
      "source": [
        "# Friday, March 3rd\n",
        "\n",
        "## To do\n",
        "- Read Oskar review\n",
        "- Do a roadmap\n",
        "- Look at Leo code in Genomes\n",
        "\n",
        "## Done\n",
        "- [x] Added tools for updating my project notebook\n",
        "- [x] Configured Github project\n",
        "- [x] Learn Markdown language\n",
        "\n",
        "### _For the week-end_\n",
        "1. Wait Cassandra mail for the roadmap :\n",
        "    * Create a roadmap\n",
        "1. Read Oskar review\n",
        "1. Look at Leo code"
      ],
      "metadata": {}
    },
    {
      "cell_type": "markdown",
      "source": [
        "# Monday, March 6th\n",
        "\n",
        "## To do\n",
        "- Read Oskar review\n",
        "- Read about Maxml\n",
        "- Read about Mrbayes\n",
        "\n",
        "## Done\n",
        "- Begun Oskar review"
      ],
      "metadata": {}
    },
    {
      "cell_type": "markdown",
      "source": [
        "# Tuesday, March 7th\n",
        "\n",
        "## To do\n",
        "- Continue Oskar review\n",
        "- Read the other articles\n",
        "\n",
        "## Notes\n",
        "- Have received Tamsin Jones's archives from Cassandra\n"
      ],
      "metadata": {}
    },
    {
      "cell_type": "markdown",
      "source": [
        "# Wednesday, March 8th\n",
        "\n",
        "## To do\n",
        "- Continue Oskar review\n",
        "- Begin Roadmap for Task 1\n",
        "\n",
        "## Done\n",
        "- Installed RAxML on my computer and worked on the manual\n",
        "- Created the beginning of Task 1 roadmap (see __task_One.ipynb__)\n",
        "\n",
        "## Goals of task_One\n",
        "1. Create a parser to build InsectGenomesInfos.csv\n",
        "2. Update Leo pipeline Gene\\_Prediction\\_Genome\\_DB by used __Evidence Base Modeler__ for finding ORF\n",
        "    a. Test the Pipeline with __Evidence Base Modeler__ and __Augustus__ in order to have gene annotations for __ONE__ genome\n",
        "\n"
      ],
      "metadata": {}
    },
    {
      "cell_type": "code",
      "source": [],
      "outputs": [],
      "execution_count": null,
      "metadata": {
        "collapsed": false,
        "outputHidden": false,
        "inputHidden": false
      }
    },
    {
      "cell_type": "code",
      "source": [],
      "outputs": [],
      "execution_count": null,
      "metadata": {
        "collapsed": false,
        "outputHidden": false,
        "inputHidden": false
      }
    }
  ],
  "metadata": {
    "kernelspec": {
      "name": "python3",
      "language": "python",
      "display_name": "Python 3"
    },
    "kernel_info": {
      "name": "python3"
    },
    "language_info": {
      "version": "3.5.2",
      "pygments_lexer": "ipython3",
      "mimetype": "text/x-python",
      "codemirror_mode": {
        "version": 3,
        "name": "ipython"
      },
      "nbconvert_exporter": "python",
      "name": "python",
      "file_extension": ".py"
    }
  },
  "nbformat": 4,
  "nbformat_minor": 4
}