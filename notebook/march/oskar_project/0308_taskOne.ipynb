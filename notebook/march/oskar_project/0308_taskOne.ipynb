{
  "cells": [
    {
      "cell_type": "markdown",
      "source": [
        "# task_One (Python Parser)\n",
        "_Date : 03/08/2017_\n",
        "\n",
        "## Goals for task_One\n",
        "1. Create a parser to build insectGenomesInfos.csv\n",
        "2. Update Leo pipeline Gene\\_Prediction\\_Genome\\_DB by used __Evidence Base Modeler__ for finding ORF\n",
        "\n",
        "### Final Goal \n",
        "__Show the phylogenetic distribution of oskar in all insect orders__\n",
        "> - Could be very similar to this figure, which contains information about (1) how many species’ genomes/transcriptomes were searched in each insect Order, and (2) whether oskar was found for each species.\n",
        "> - Could simplify, and indicate whether oskar was found at least once in that order – ie, instead of having many data points per order, have only one Y/N point per order.\n",
        "\n\n",
        "## Done \n",
        "- Add parser options in Python parser\n",
        "- Add checkIfInsect() function in Python parser\n",
        "\n"
      ],
      "metadata": {}
    },
    {
      "cell_type": "code",
      "source": [
        "'''\n",
        "Created date : 03-08-2017\n",
        "Test for one tax_id\n",
        "'''\n",
        "\n",
        "from optparse import OptionParser\n",
        "from Bio import Entrez\n",
        "Entrez.email = 'savandara.besse@gmail.com'\n",
        "\n",
        "tax_id = 28584\n",
        "insectDict = {tax_id:{}}"
      ],
      "outputs": [],
      "execution_count": 19,
      "metadata": {
        "collapsed": false,
        "outputHidden": false,
        "inputHidden": false
      }
    },
    {
      "cell_type": "code",
      "source": [
        "handle = Entrez.efetch(db=\"taxonomy\", id=tax_id)\n",
        "record = Entrez.read(handle) "
      ],
      "outputs": [],
      "execution_count": 7,
      "metadata": {
        "collapsed": false,
        "outputHidden": false,
        "inputHidden": false
      }
    },
    {
      "cell_type": "code",
      "source": [
        "lineage_ex = record[0][\"LineageEx\"] \n",
        "for Dict in lineage_ex :\n",
        "\n",
        "    if Dict[\"Rank\"] == \"family\" :\n",
        "        insectDict[tax_id][\"family_name\"] = Dict[\"ScientificName\"]\n",
        "        insectDict[tax_id][\"family_id\"] = Dict[\"TaxId\"]\n",
        "\n",
        "    if Dict[\"Rank\"] == \"order\" : \n",
        "        insectDict[tax_id][\"order_name\"] = Dict[\"ScientificName\"]\n",
        "        insectDict[tax_id][\"order_id\"] = Dict[\"TaxId\"]\n",
        "\n",
        "if \"family_name\" not in insectDict[tax_id]:\n",
        "    insectDict[tax_id][\"family_name\"] = \"N/A\"\n",
        "    insectDict[tax_id][\"family_id\"] = \"N/A\"\n",
        "\n",
        "if \"order_name\" not in insectDict[tax_id]:\n",
        "    insectDict[tax_id][\"family_name\"] = \"N/A\"\n",
        "    insectDict[tax_id][\"family_id\"] = \"N/A\""
      ],
      "outputs": [],
      "execution_count": 9,
      "metadata": {
        "collapsed": false,
        "outputHidden": false,
        "inputHidden": false
      }
    },
    {
      "cell_type": "code",
      "source": [
        "insectDict"
      ],
      "outputs": [
        {
          "output_type": "execute_result",
          "execution_count": 14,
          "data": {
            "text/plain": [
              "{28584: {'family_id': '7214',\n",
              "  'family_name': 'Drosophilidae',\n",
              "  'order_id': '7147',\n",
              "  'order_name': 'Diptera'}}"
            ]
          },
          "metadata": {}
        }
      ],
      "execution_count": 14,
      "metadata": {
        "collapsed": false,
        "outputHidden": false,
        "inputHidden": false
      }
    },
    {
      "cell_type": "markdown",
      "source": [
        "## Final code"
      ],
      "metadata": {}
    },
    {
      "cell_type": "code",
      "source": [
        "#pathcsv=\"Eukariotes.csv\"\n",
        "f = open(pathcsv)\n",
        "alldata = [x.strip() for x in f.readlines()]\n",
        "f.close()"
      ],
      "outputs": [
        {
          "output_type": "error",
          "ename": "FileNotFoundError",
          "evalue": "[Errno 2] No such file or directory: 'Eukariotes.txt'",
          "traceback": [
            "\u001b[0;31m---------------------------------------------------------------------------\u001b[0m",
            "\u001b[0;31mFileNotFoundError\u001b[0m                         Traceback (most recent call last)",
            "\u001b[0;32m<ipython-input-18-6b53493025d0>\u001b[0m in \u001b[0;36m<module>\u001b[0;34m()\u001b[0m\n\u001b[1;32m      1\u001b[0m \u001b[0;31m#pathcsv=\"Eukariotes.csv\"\u001b[0m\u001b[0;34m\u001b[0m\u001b[0;34m\u001b[0m\u001b[0m\n\u001b[0;32m----> 2\u001b[0;31m \u001b[0mf\u001b[0m \u001b[0;34m=\u001b[0m \u001b[0mopen\u001b[0m\u001b[0;34m(\u001b[0m\u001b[0mpathcsv\u001b[0m\u001b[0;34m)\u001b[0m\u001b[0;34m\u001b[0m\u001b[0m\n\u001b[0m\u001b[1;32m      3\u001b[0m \u001b[0malldata\u001b[0m \u001b[0;34m=\u001b[0m \u001b[0;34m[\u001b[0m\u001b[0mx\u001b[0m\u001b[0;34m.\u001b[0m\u001b[0mstrip\u001b[0m\u001b[0;34m(\u001b[0m\u001b[0;34m)\u001b[0m \u001b[0;32mfor\u001b[0m \u001b[0mx\u001b[0m \u001b[0;32min\u001b[0m \u001b[0mf\u001b[0m\u001b[0;34m.\u001b[0m\u001b[0mreadlines\u001b[0m\u001b[0;34m(\u001b[0m\u001b[0;34m)\u001b[0m\u001b[0;34m]\u001b[0m\u001b[0;34m\u001b[0m\u001b[0m\n\u001b[1;32m      4\u001b[0m \u001b[0mf\u001b[0m\u001b[0;34m.\u001b[0m\u001b[0mclose\u001b[0m\u001b[0;34m(\u001b[0m\u001b[0;34m)\u001b[0m\u001b[0;34m\u001b[0m\u001b[0m\n",
            "\u001b[0;31mFileNotFoundError\u001b[0m: [Errno 2] No such file or directory: 'Eukariotes.txt'"
          ]
        }
      ],
      "execution_count": 18,
      "metadata": {
        "collapsed": false,
        "outputHidden": false,
        "inputHidden": false
      }
    },
    {
      "cell_type": "code",
      "source": [
        "'''\n",
        "Created date : 03-08-2017\n",
        "checkIfInsect() function get the tax_id, species name and number acession for all species which have class == \"Insects\" in the csv file Eukaryotes.csv\n",
        "'''\n",
        "\n",
        "def checkIfInsect(alldata):\n",
        "\tinsectDict = {}\n",
        "\n",
        "\tfor line in alldata :\n",
        "\t\tline = line.split('\\t')\n",
        "\n",
        "\t\tif line[5] == \"Insects\" :\n",
        "\t\t\tinsectDict[line[1]] = {}\n",
        "\t\t\tinsectDict[line[1]][\"sp_name\"] = line[0]\n",
        "\t\t\tinsectDict[line[1]][\"genome_id\"] = line[8]\n",
        "\n\treturn insectDict"
      ],
      "outputs": [],
      "execution_count": 8,
      "metadata": {
        "collapsed": false,
        "outputHidden": false,
        "inputHidden": false
      }
    },
    {
      "cell_type": "code",
      "source": [
        "'''\n",
        "Created date : 03-09-2017\n",
        "addData() function use Entrez API by BioPython to find for each tax_id : \n",
        "their family_name, family_id, order_name and order_id \n",
        "add a progressbar to see the progression\n",
        "'''\n",
        "\n",
        "def addData(insectDict) :\n",
        "\tbar = progressbar.ProgressBar()\n",
        "\tfor key in bar(insectDict.keys()):\n",
        "\t\ttax_id = key\n",
        "\n",
        "\t\thandle = Entrez.efetch(db=\"taxonomy\", id=tax_id)\n",
        "\t\trecord = Entrez.read(handle) \n",
        "\n",
        "\t\tfor index in range(len(record)) : \n",
        "\t\t\tlineage_ex = record[index][\"LineageEx\"] \n",
        "\t\t\tfor Dict in lineage_ex :\n",
        "\n",
        "\t\t\t\tif Dict[\"Rank\"] == \"family\" :\n",
        "\t\t\t\t\tinsectDict[tax_id][\"family_name\"] = dict[\"ScientificName\"]\n",
        "\t\t\t\t\tinsectDict[tax_id][\"family_id\"] = Dict[\"TaxId\"]\n",
        "\n",
        "\t\t\t\tif dict[\"Rank\"] == \"order\" : \n",
        "\t\t\t\t\tinsectDict[tax_id][\"order_name\"] = Dict[\"ScientificName\"]\n",
        "\t\t\t\t\tinsectDict[tax_id][\"order_id\"] = Dict[\"TaxId\"]\n",
        "\n",
        "\t\t\tif \"family_name\" not in insectDict[tax_id]:\n",
        "\t\t\t    insectDict[tax_id][\"family_name\"] = \"N/A\"\n",
        "\t\t\t    insectDict[tax_id][\"family_id\"] = \"N/A\"\n",
        "\n",
        "\t\t\tif \"order_name\" not in insectDict[tax_id]:\n",
        "\t\t\t    insectDict[tax_id][\"order_name\"] = \"N/A\"\n",
        "\t\t\t    insectDict[tax_id][\"order_id\"] = \"N/A\"\n",
        "\t\t\t\t\t\n",
        "\t\thandle.close()"
      ],
      "outputs": [],
      "execution_count": 11,
      "metadata": {
        "collapsed": false,
        "outputHidden": false,
        "inputHidden": false
      }
    },
    {
      "cell_type": "code",
      "source": [
        "'''\n",
        "Created date : 03-09-2017\n",
        "createTable() function build the csv file which have all the information that we want \n",
        "'''\n",
        "\n",
        "def createTable(insectDict):\n",
        "\n",
        "\tf = open(\"insectGenomesInfos.csv\", 'w')\n",
        "\tf.write(\"Species id, Species name, Family id, Family name, Order id, Order name, Acession number\\n\")\n",
        "\n",
        "\tid_list = [\"sp_name\",\"family_id\", \"family_name\", \"order_id\", \"order_name\"]\n",
        "\n",
        "\tfor key in insectDict.keys():\n",
        "\t\tf.write(str(key))\n",
        "\t\tf.write(\",\")\n",
        "\n",
        "\t\tfor id in range(len(id_list)) :\n",
        "\t\t\tvalue = insectDict[key][id_list[id]]\n",
        "\n",
        "\t\t\tif type(value) is int : \n",
        "\t\t\t\tf.write(str(value))\n",
        "\t\t\t\tf.write(\",\")\n",
        "\n",
        "\t\t\telse :\n",
        "\t\t\t\tf.write(value)\n",
        "\t\t\t\tf.write(\",\")\n",
        "\n",
        "\t\tf.write(insectDict[key][\"genome_id\"])\n",
        "\t\tf.write(\"\\n\")\n",
        "\n\tf.close()"
      ],
      "outputs": [],
      "execution_count": 19,
      "metadata": {
        "collapsed": false,
        "outputHidden": false,
        "inputHidden": false
      }
    },
    {
      "cell_type": "markdown",
      "source": [
        "_Date : 03/09/2017_\n",
        "\n",
        "## Done\n",
        "- [x] Add checkIfInsect(), addData() and createTable() function in the Python parser\n",
        "- [x] Add a progressbar in the script\n",
        "- [x] Parser terminated\n",
        "$\\rightarrow$ __It works !!__\n",
        "\n",
        "## Notes\n",
        "- __Found 247 Insect Genomes__\n",
        "- __One specie have to be curated by hand : ```tax_id = 48709```__"
      ],
      "metadata": {}
    },
    {
      "cell_type": "markdown",
      "source": [],
      "metadata": {}
    }
  ],
  "metadata": {
    "kernelspec": {
      "name": "python3",
      "language": "python",
      "display_name": "Python 3"
    },
    "kernel_info": {
      "name": "python3"
    },
    "language_info": {
      "file_extension": ".py",
      "mimetype": "text/x-python",
      "name": "python",
      "codemirror_mode": {
        "name": "ipython",
        "version": 3
      },
      "pygments_lexer": "ipython3",
      "nbconvert_exporter": "python",
      "version": "3.5.2"
    }
  },
  "nbformat": 4,
  "nbformat_minor": 4
}