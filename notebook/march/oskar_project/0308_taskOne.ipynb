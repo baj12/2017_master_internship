{
  "cells": [
    {
      "cell_type": "markdown",
      "source": [
        "# task_One (Python Parser)\n",
        "_Date : 03/08/2017_\n",
        "\n",
        "## Goals for task_One\n",
        "1. Create a parser to build insectGenomesInfos.csv\n",
        "2. Update Leo pipeline Gene\\_Prediction\\_Genome\\_DB by used __Evidence Base Modeler__ for finding ORF\n",
        "\n",
        "### Final Goal \n",
        "__Show the phylogenetic distribution of oskar in all insect orders__\n",
        "> - Could be very similar to this figure, which contains information about (1) how many species’ genomes/transcriptomes were searched in each insect Order, and (2) whether oskar was found for each species.\n",
        "> - Could simplify, and indicate whether oskar was found at least once in that order – ie, instead of having many data points per order, have only one Y/N point per order.\n",
        "\n\n",
        "## Done \n",
        "- Add parser options in Python parser\n",
        "- Add checkIfInsect() function in Python parser\n",
        "\n"
      ],
      "metadata": {}
    },
    {
      "cell_type": "code",
      "source": [
        "'''\n",
        "Created date : 03-08-2017\n",
        "Parser part \n",
        "'''\n",
        "\n",
        "import pandas as pd\n",
        "import os\n",
        "from optparse import OptionParser\n",
        "\n\n",
        "parser = OptionParser()\n",
        "parser.add_option(\"-p\", \"--csv_file\", dest=\"pathcsv\", default=\"None\",\n",
        "                  help=\"[Required] Location of the csv file containing all the data of this link: 'ftp://ftp.ncbi.nlm.nih.gov/genomes/GENOME_REPORTS/eukaryotes.txt'\")\n",
        "\n",
        "(options, args) = parser.parse_args()\n",
        "\n",
        "pathcsv = options.pathcsv\n",
        "\n",
        "if pathcsv == \"None\":\n",
        "\tprint (\"Maybe have you forget to download your data? \\n -h for more information\")\n",
        "\tsys.exit(1)\n",
        "\n",
        "f = open(pathcsv)\n",
        "alldata = [x.strip() for x in f.readlines()]\n",
        "f.close()"
      ],
      "outputs": [
        {
          "output_type": "stream",
          "name": "stderr",
          "text": [
            "Usage: __main__.py [options]\n",
            "\n",
            "__main__.py: error: no such option: -f\n"
          ]
        },
        {
          "output_type": "error",
          "ename": "SystemExit",
          "evalue": "2",
          "traceback": [
            "An exception has occurred, use %tb to see the full traceback.\n",
            "\u001b[0;31mSystemExit\u001b[0m\u001b[0;31m:\u001b[0m 2\n"
          ]
        },
        {
          "output_type": "stream",
          "name": "stderr",
          "text": [
            "/usr/local/lib/python3.5/dist-packages/IPython/core/interactiveshell.py:2889: UserWarning: To exit: use 'exit', 'quit', or Ctrl-D.\n",
            "  warn(\"To exit: use 'exit', 'quit', or Ctrl-D.\", stacklevel=1)\n"
          ]
        }
      ],
      "execution_count": 13,
      "metadata": {
        "collapsed": false,
        "outputHidden": false,
        "inputHidden": false
      }
    },
    {
      "cell_type": "code",
      "source": [
        "'''\n",
        "Created date : 03-08-2017\n",
        "checkIfInsect() function get the tax_id, species name and number acession for all species which have class == \"Insects\" in the csv file Eukaryotes.csv\n",
        "'''\n",
        "\n",
        "def checkIfInsect(alldata):\n",
        "\tinsectDict = {}\n",
        "\n",
        "\tfor line in alldata :\n",
        "\t\tline = line.split('\\t')\n",
        "\n",
        "\t\tif line[5] == \"Insects\" :\n",
        "\t\t\tinsectDict[line[1]] = {}\n",
        "\t\t\tinsectDict[line[1]][\"sp_name\"] = line[0]\n",
        "\t\t\tinsectDict[line[1]][\"genome_id\"] = line[8]\n",
        "\n\treturn insectDict"
      ],
      "outputs": [],
      "execution_count": 15,
      "metadata": {
        "collapsed": false,
        "outputHidden": false,
        "inputHidden": false
      }
    },
    {
      "cell_type": "markdown",
      "source": [
        "_Date : 03/09/2017_\n",
        "\n",
        "## Done\n",
        "- Add addData() and createTable() function in the Python parser \n",
        "- Parser terminated\n",
        "$\\rightarrow$ __It works !!__\n",
        "\n",
        "## Notes\n",
        "- *__Found 247 Insect Genomes__*"
      ],
      "metadata": {}
    },
    {
      "cell_type": "code",
      "source": [
        "'''\n",
        "Created date : 03-09-2017\n",
        "addData() function use Entrez API by BioPython to find for each tax_id : \n",
        "their family_name, family_id, order_name and order_id \n",
        "'''\n",
        "\n",
        "def addData(insectDict) :\n",
        "\tfor key in insectDict.keys():\n",
        "\t\ttax_id = key\n",
        "\n",
        "\t\thandle = Entrez.efetch(db=\"taxonomy\", id=tax_id)\n",
        "\t\trecord = Entrez.read(handle) \n",
        "\n",
        "\t\tfor index in range(len(record)) : \n",
        "\t\t\tlineage_ex = record[index][\"LineageEx\"] \n",
        "\t\t\tfor dict in lineage_ex :\n",
        "\n",
        "\t\t\t\tif dict[\"Rank\"] == \"family\" :\n",
        "\t\t\t\t\tinsectDict[tax_id][\"family_name\"] = dict[\"ScientificName\"]\n",
        "\t\t\t\t\tinsectDict[tax_id][\"family_id\"] = dict[\"TaxId\"]\n",
        "\n",
        "\t\t\t\telif dict[\"Rank\"] == \"no rank\" : \n",
        "\t\t\t\t\tinsectDict[tax_id][\"family_name\"] = \"N/A\"\n",
        "\t\t\t\t\tinsectDict[tax_id][\"family_id\"] = \"N/A\"\n",
        "\n\n",
        "\t\t\t\tif dict[\"Rank\"] == \"order\" : \n",
        "\t\t\t\t\tinsectDict[tax_id][\"order_name\"] = dict[\"ScientificName\"]\n",
        "\t\t\t\t\tinsectDict[tax_id][\"order_id\"] = dict[\"TaxId\"]\n",
        "\n",
        "\t\t\t\telif dict[\"Rank\"] == \"no rank\" : \n",
        "\t\t\t\t\tinsectDict[tax_id][\"order_name\"] = \"N/A\"\n",
        "\t\t\t\t\tinsectDict[tax_id][\"order_id\"] = \"N/A\"\n",
        "\t\t\t\t\t\n",
        "\t\thandle.close()"
      ],
      "outputs": [],
      "execution_count": 18,
      "metadata": {
        "collapsed": false,
        "outputHidden": false,
        "inputHidden": false
      }
    },
    {
      "cell_type": "code",
      "source": [
        "'''\n",
        "Created date : 03-09-2017\n",
        "createTable() function build the csv file which have all the information that we want \n",
        "'''\n",
        "\n",
        "def createTable(insectDict):\n",
        "\n",
        "\tf = open(\"insectGenomesInfos.csv\", 'w')\n",
        "\tf.write(\"Species id, Species name, Family id, Family name, Order id, Order name, Acession number\\n\")\n",
        "\n",
        "\tid_list = [\"sp_name\",\"family_id\", \"family_name\", \"order_id\", \"order_name\"]\n",
        "\n",
        "\tfor key in insectDict.keys():\n",
        "\t\tf.write(str(key))\n",
        "\t\tf.write(\",\")\n",
        "\n",
        "\t\tfor id in range(len(id_list)) :\n",
        "\t\t\tvalue = insectDict[key][id_list[id]]\n",
        "\n",
        "\t\t\tif type(value) is int : \n",
        "\t\t\t\tf.write(str(value))\n",
        "\t\t\t\tf.write(\",\")\n",
        "\n",
        "\t\t\telse :\n",
        "\t\t\t\tf.write(value)\n",
        "\t\t\t\tf.write(\",\")\n",
        "\n",
        "\t\tf.write(insectDict[key][\"genome_id\"])\n",
        "\t\tf.write(\"\\n\")\n",
        "\n\tf.close()"
      ],
      "outputs": [],
      "execution_count": 19,
      "metadata": {
        "collapsed": false,
        "outputHidden": false,
        "inputHidden": false
      }
    }
  ],
  "metadata": {
    "kernelspec": {
      "name": "python3",
      "language": "python",
      "display_name": "Python 3"
    },
    "kernel_info": {
      "name": "python3"
    },
    "language_info": {
      "codemirror_mode": {
        "version": 3,
        "name": "ipython"
      },
      "name": "python",
      "file_extension": ".py",
      "version": "3.5.2",
      "nbconvert_exporter": "python",
      "mimetype": "text/x-python",
      "pygments_lexer": "ipython3"
    }
  },
  "nbformat": 4,
  "nbformat_minor": 4
}