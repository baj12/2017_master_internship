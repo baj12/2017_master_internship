{
  "cells": [
    {
      "cell_type": "markdown",
      "source": [
        "# task_One\n",
        "_Date : 03/08/2017_\n",
        "\n",
        "## Goals for task_One\n",
        "1. Create a parser to build insectGenomesInfos.csv\n",
        "2. Update Leo pipeline Gene\\_Prediction\\_Genome\\_DB by used __Evidence Base Modeler__ for finding ORF\n",
        "\n",
        "## To do for 03/09/2017\n",
        "- Creating the Python parser\n",
        "- Add Biopython\n",
        "- Test the Pipeline with __Evidence Base Modeler__ and __Augustus__ in order to have gene annotations for __ONE__ genome by hand\n"
      ],
      "metadata": {}
    },
    {
      "cell_type": "code",
      "source": [
        "#!/usr/bin/env python\n",
        "\n",
        "'''\n",
        "\n",
        "Author : Savandara Besse\n",
        "\n",
        "Created date : 03-08-2017\n",
        "Modified date : None\n",
        "\n",
        "Description : This script allows to create a csv file composed \n",
        "of all the insect genomes informations with these specific columns :\n",
        "Species names - Species id, Families names, Families id, Order names, Order id, genome id\n",
        "\n",
        "To update this table, you will need of the last version of this file eucaryotes: \n",
        "ftp://ftp.ncbi.nlm.nih.gov/genomes/GENOME_REPORTS/eukaryotes.txt\n",
        "\n",
        "'''\n",
        "\n",
        "import pandas as pd\n",
        "import os\n",
        "from optparse import OptionParser\n",
        "\n",
        "parser = OptionParser()\n",
        "parser.add_option(\"-p\", \"--csv_file\", dest=\"pathcsv\", default=\"None\",\n",
        "                  help=\"[Required] Location of the csv file containing all the data of this link: 'ftp://ftp.ncbi.nlm.nih.gov/genomes/GENOME_REPORTS/eukaryotes.txt'\")\n",
        "\n",
        "(options, args) = parser.parse_args()\n",
        "\n",
        "pathcsv = options.pathcsv\n",
        "\n",
        "if pathcsv == \"None\":\n",
        "\tprint (\"Maybe have you forget to download your data? \\n -h for more information\")\n",
        "\tsys.exit(1)\n",
        "\n",
        "f = open(pathcsv)\n",
        "alldata = [x.strip() for x in f.readlines()]\n",
        "f.close()\n",
        "\n",
        "def checkIfInsect(alldata):\n",
        "\tinsectDict = {}\n",
        "\n",
        "\tfor line in alldata :\n",
        "\t\tline = line.split('\\t')\n",
        "\n",
        "\t\tif line[5] == \"Insects\" :\n",
        "\t\t\tinsectDict[line[1]] = {}\n",
        "\t\t\tinsectDict[line[1]][\"sp_name\"] = line[0]\n",
        "\t\t\tinsectDict[line[1]][\"number_acession\"] = line[8]\n",
        "\n",
        "\treturn insectDict\n",
        "\ncheckIfInsect(alldata)"
      ],
      "outputs": [
        {
          "output_type": "stream",
          "name": "stderr",
          "text": [
            "Usage: __main__.py [options]\n",
            "\n",
            "__main__.py: error: no such option: -f\n"
          ]
        },
        {
          "output_type": "error",
          "ename": "SystemExit",
          "evalue": "2",
          "traceback": [
            "An exception has occurred, use %tb to see the full traceback.\n",
            "\u001b[0;31mSystemExit\u001b[0m\u001b[0;31m:\u001b[0m 2\n"
          ]
        },
        {
          "output_type": "stream",
          "name": "stderr",
          "text": [
            "/usr/local/lib/python3.5/dist-packages/IPython/core/interactiveshell.py:2889: UserWarning: To exit: use 'exit', 'quit', or Ctrl-D.\n",
            "  warn(\"To exit: use 'exit', 'quit', or Ctrl-D.\", stacklevel=1)\n"
          ]
        }
      ],
      "execution_count": 3,
      "metadata": {
        "collapsed": false,
        "outputHidden": false,
        "inputHidden": false
      }
    },
    {
      "cell_type": "code",
      "source": [],
      "outputs": [],
      "execution_count": null,
      "metadata": {
        "collapsed": false,
        "outputHidden": false,
        "inputHidden": false
      }
    },
    {
      "cell_type": "code",
      "source": [],
      "outputs": [],
      "execution_count": null,
      "metadata": {
        "collapsed": false,
        "outputHidden": false,
        "inputHidden": false
      }
    },
    {
      "cell_type": "code",
      "source": [],
      "outputs": [],
      "execution_count": null,
      "metadata": {
        "collapsed": false,
        "outputHidden": false,
        "inputHidden": false
      }
    },
    {
      "cell_type": "code",
      "source": [],
      "outputs": [],
      "execution_count": null,
      "metadata": {
        "collapsed": false,
        "outputHidden": false,
        "inputHidden": false
      }
    },
    {
      "cell_type": "code",
      "source": [],
      "outputs": [],
      "execution_count": null,
      "metadata": {
        "collapsed": false,
        "outputHidden": false,
        "inputHidden": false
      }
    },
    {
      "cell_type": "code",
      "source": [],
      "outputs": [],
      "execution_count": null,
      "metadata": {
        "collapsed": false,
        "outputHidden": false,
        "inputHidden": false
      }
    }
  ],
  "metadata": {
    "kernelspec": {
      "name": "python3",
      "language": "python",
      "display_name": "Python 3"
    },
    "kernel_info": {
      "name": "python3"
    },
    "language_info": {
      "name": "python",
      "mimetype": "text/x-python",
      "codemirror_mode": {
        "name": "ipython",
        "version": 3
      },
      "file_extension": ".py",
      "version": "3.5.2",
      "pygments_lexer": "ipython3",
      "nbconvert_exporter": "python"
    }
  },
  "nbformat": 4,
  "nbformat_minor": 4
}