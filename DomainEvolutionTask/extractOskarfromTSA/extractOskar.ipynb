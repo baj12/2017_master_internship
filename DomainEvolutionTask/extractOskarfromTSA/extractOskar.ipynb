{
  "cells": [
    {
      "cell_type": "markdown",
      "source": [
        "# extract Oskar sequences from oskar_result\n",
        "\n",
        "- Created date: 04-11-2017\n",
        "\n",
        "#### **Description** : Extract all protein sequences which are supposed to have an oskar sequence\n"
      ],
      "metadata": {}
    },
    {
      "cell_type": "code",
      "source": [
        "import pandas as pd\n",
        "import re, os, sys\n",
        "from Bio import SeqIO\n",
        "from Bio.Seq import Seq\n",
        "from Bio.SeqRecord import SeqRecord\n",
        "from Bio.Alphabet import generic_protein\n",
        "\n",
        "df = pd.read_table('oskar_result.txt')\n",
        "\n",
        "proteinOskar = {}\n",
        "\n",
        "for index in df.index :\n",
        "    if df['oskar'][index] == 'yes':\n",
        "        tsa_id = df['tsa'][index]\n",
        "        proteinOskar[tsa_id] = {}\n",
        "        tsa = re.findall(r'([A-Z]{4}[0-9]{8}.[0-9]{1}_[0-9]{1})', df['oskar_sequence'][index])\n",
        "        seq_list = []\n",
        "        for i in range(len(tsa)):\n",
        "            seq_list.append(tsa[i])\n",
        "        proteinOskar[tsa_id]['oskar'] = seq_list\n",
        "        proteinOskar[tsa_id]['organism'] = df['organism'][index]\n",
        "\n",
        "proteinPath = os.listdir('./protein/')\n",
        "\n",
        "my_records = []\n",
        "\n",
        "for protein_file in proteinPath : \n",
        "    for key in sorted(proteinOskar.keys()):\n",
        "        if key in protein_file :\n",
        "            for sequence in proteinOskar[key]['oskar'] :\n",
        "                for seq_record in SeqIO.parse('./protein/{}'.format(protein_file), 'fasta'):\n",
        "                    tsa = re.findall(r'([A-Z]{4}[0-9]{8}.[0-9]{1}_[0-9]{1})', seq_record.id)[0]\n",
        "                    if sequence == tsa :\n",
        "                        tsa_id = re.findall(r'([A-Z]{4}[0-9]{8}.[0-9]{1})', sequence)[0]\n",
        "                        \n",
        "                        \n",
        "                        tmp = SeqRecord( Seq(str(seq_record.seq), generic_protein), id='{}|transeq_tsa|'.format(tsa_id,organism), description=str(proteinOskar[key]['organism']) )\n",
        "                        \n",
        "                        my_records.append(tmp)\n",
        "                        \n",
        "SeqIO.write(my_records, \"tsa_oskar_sequence.faa\", \"fasta\")"
      ],
      "outputs": [
        {
          "output_type": "execute_result",
          "execution_count": 52,
          "data": {
            "text/plain": [
              "24"
            ]
          },
          "metadata": {}
        }
      ],
      "execution_count": 52,
      "metadata": {
        "collapsed": false,
        "outputHidden": false,
        "inputHidden": false
      }
    },
    {
      "cell_type": "code",
      "source": [
        "ls"
      ],
      "outputs": [],
      "execution_count": null,
      "metadata": {
        "collapsed": false,
        "outputHidden": false,
        "inputHidden": false
      }
    }
  ],
  "metadata": {
    "kernelspec": {
      "name": "python3",
      "language": "python",
      "display_name": "Python 3"
    },
    "kernel_info": {
      "name": "python3"
    },
    "language_info": {
      "codemirror_mode": {
        "version": 3,
        "name": "ipython"
      },
      "mimetype": "text/x-python",
      "name": "python",
      "nbconvert_exporter": "python",
      "version": "3.5.2",
      "file_extension": ".py",
      "pygments_lexer": "ipython3"
    }
  },
  "nbformat": 4,
  "nbformat_minor": 4
}